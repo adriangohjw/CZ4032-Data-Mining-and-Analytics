{
 "cells": [
  {
   "cell_type": "code",
   "execution_count": 10,
   "metadata": {},
   "outputs": [],
   "source": [
    "import pandas as pd\n",
    "import numpy as np\n",
    "from sklearn import tree"
   ]
  },
  {
   "cell_type": "code",
   "execution_count": 3,
   "metadata": {},
   "outputs": [
    {
     "data": {
      "text/html": [
       "<div>\n",
       "<style scoped>\n",
       "    .dataframe tbody tr th:only-of-type {\n",
       "        vertical-align: middle;\n",
       "    }\n",
       "\n",
       "    .dataframe tbody tr th {\n",
       "        vertical-align: top;\n",
       "    }\n",
       "\n",
       "    .dataframe thead th {\n",
       "        text-align: right;\n",
       "    }\n",
       "</style>\n",
       "<table border=\"1\" class=\"dataframe\">\n",
       "  <thead>\n",
       "    <tr style=\"text-align: right;\">\n",
       "      <th></th>\n",
       "      <th>Temperature</th>\n",
       "      <th>Humidity</th>\n",
       "      <th>Light</th>\n",
       "      <th>CO2</th>\n",
       "      <th>HumidityRatio</th>\n",
       "      <th>Occupancy</th>\n",
       "    </tr>\n",
       "  </thead>\n",
       "  <tbody>\n",
       "    <tr>\n",
       "      <th>0</th>\n",
       "      <td>19.39</td>\n",
       "      <td>25.890000</td>\n",
       "      <td>0.0</td>\n",
       "      <td>471.000000</td>\n",
       "      <td>0.003599</td>\n",
       "      <td>0</td>\n",
       "    </tr>\n",
       "    <tr>\n",
       "      <th>1</th>\n",
       "      <td>20.50</td>\n",
       "      <td>33.500000</td>\n",
       "      <td>0.0</td>\n",
       "      <td>645.000000</td>\n",
       "      <td>0.005000</td>\n",
       "      <td>0</td>\n",
       "    </tr>\n",
       "    <tr>\n",
       "      <th>2</th>\n",
       "      <td>20.20</td>\n",
       "      <td>19.100000</td>\n",
       "      <td>0.0</td>\n",
       "      <td>447.000000</td>\n",
       "      <td>0.002789</td>\n",
       "      <td>0</td>\n",
       "    </tr>\n",
       "    <tr>\n",
       "      <th>3</th>\n",
       "      <td>21.29</td>\n",
       "      <td>33.145000</td>\n",
       "      <td>464.0</td>\n",
       "      <td>1421.750000</td>\n",
       "      <td>0.005195</td>\n",
       "      <td>1</td>\n",
       "    </tr>\n",
       "    <tr>\n",
       "      <th>4</th>\n",
       "      <td>20.50</td>\n",
       "      <td>31.163333</td>\n",
       "      <td>441.0</td>\n",
       "      <td>970.333333</td>\n",
       "      <td>0.004649</td>\n",
       "      <td>1</td>\n",
       "    </tr>\n",
       "  </tbody>\n",
       "</table>\n",
       "</div>"
      ],
      "text/plain": [
       "   Temperature   Humidity  Light          CO2  HumidityRatio  Occupancy\n",
       "0        19.39  25.890000    0.0   471.000000       0.003599          0\n",
       "1        20.50  33.500000    0.0   645.000000       0.005000          0\n",
       "2        20.20  19.100000    0.0   447.000000       0.002789          0\n",
       "3        21.29  33.145000  464.0  1421.750000       0.005195          1\n",
       "4        20.50  31.163333  441.0   970.333333       0.004649          1"
      ]
     },
     "execution_count": 3,
     "metadata": {},
     "output_type": "execute_result"
    }
   ],
   "source": [
    "#Read in txt file of training and testing record\n",
    "train_df_occ = pd.read_csv(\"train_df_occ.csv\")\n",
    "test_df_occ = pd.read_csv(\"test_df_occ.csv\")\n",
    "\n",
    "test_df = pd.read_csv(\"test_df.csv\")\n",
    "\n",
    "#View briefly train dataset\n",
    "train_df_occ.head()"
   ]
  },
  {
   "cell_type": "code",
   "execution_count": 4,
   "metadata": {},
   "outputs": [
    {
     "data": {
      "text/html": [
       "<div>\n",
       "<style scoped>\n",
       "    .dataframe tbody tr th:only-of-type {\n",
       "        vertical-align: middle;\n",
       "    }\n",
       "\n",
       "    .dataframe tbody tr th {\n",
       "        vertical-align: top;\n",
       "    }\n",
       "\n",
       "    .dataframe thead th {\n",
       "        text-align: right;\n",
       "    }\n",
       "</style>\n",
       "<table border=\"1\" class=\"dataframe\">\n",
       "  <thead>\n",
       "    <tr style=\"text-align: right;\">\n",
       "      <th></th>\n",
       "      <th>Temperature</th>\n",
       "      <th>Humidity</th>\n",
       "      <th>Light</th>\n",
       "      <th>CO2</th>\n",
       "      <th>HumidityRatio</th>\n",
       "      <th>Occupancy</th>\n",
       "    </tr>\n",
       "  </thead>\n",
       "  <tbody>\n",
       "    <tr>\n",
       "      <th>0</th>\n",
       "      <td>20.718</td>\n",
       "      <td>25.100</td>\n",
       "      <td>0.000000</td>\n",
       "      <td>512.400000</td>\n",
       "      <td>0.003790</td>\n",
       "      <td>0</td>\n",
       "    </tr>\n",
       "    <tr>\n",
       "      <th>1</th>\n",
       "      <td>21.000</td>\n",
       "      <td>23.290</td>\n",
       "      <td>0.000000</td>\n",
       "      <td>509.333333</td>\n",
       "      <td>0.003577</td>\n",
       "      <td>0</td>\n",
       "    </tr>\n",
       "    <tr>\n",
       "      <th>2</th>\n",
       "      <td>21.600</td>\n",
       "      <td>28.390</td>\n",
       "      <td>0.000000</td>\n",
       "      <td>895.000000</td>\n",
       "      <td>0.004530</td>\n",
       "      <td>0</td>\n",
       "    </tr>\n",
       "    <tr>\n",
       "      <th>3</th>\n",
       "      <td>23.000</td>\n",
       "      <td>26.200</td>\n",
       "      <td>651.666667</td>\n",
       "      <td>1006.166667</td>\n",
       "      <td>0.004553</td>\n",
       "      <td>1</td>\n",
       "    </tr>\n",
       "    <tr>\n",
       "      <th>4</th>\n",
       "      <td>22.390</td>\n",
       "      <td>24.912</td>\n",
       "      <td>418.600000</td>\n",
       "      <td>782.800000</td>\n",
       "      <td>0.004169</td>\n",
       "      <td>1</td>\n",
       "    </tr>\n",
       "  </tbody>\n",
       "</table>\n",
       "</div>"
      ],
      "text/plain": [
       "   Temperature  Humidity       Light          CO2  HumidityRatio  Occupancy\n",
       "0       20.718    25.100    0.000000   512.400000       0.003790          0\n",
       "1       21.000    23.290    0.000000   509.333333       0.003577          0\n",
       "2       21.600    28.390    0.000000   895.000000       0.004530          0\n",
       "3       23.000    26.200  651.666667  1006.166667       0.004553          1\n",
       "4       22.390    24.912  418.600000   782.800000       0.004169          1"
      ]
     },
     "execution_count": 4,
     "metadata": {},
     "output_type": "execute_result"
    }
   ],
   "source": [
    "test_df_occ.head()"
   ]
  },
  {
   "cell_type": "code",
   "execution_count": 5,
   "metadata": {},
   "outputs": [
    {
     "data": {
      "text/plain": [
       "0    0\n",
       "1    0\n",
       "2    0\n",
       "3    1\n",
       "4    1\n",
       "Name: Occupancy, dtype: int64"
      ]
     },
     "execution_count": 5,
     "metadata": {},
     "output_type": "execute_result"
    }
   ],
   "source": [
    "# Extract label class occupancy from training set\n",
    "occlabel_df = train_df_occ['Occupancy']\n",
    "occlabel_df.head()"
   ]
  },
  {
   "cell_type": "code",
   "execution_count": 6,
   "metadata": {},
   "outputs": [
    {
     "data": {
      "text/html": [
       "<div>\n",
       "<style scoped>\n",
       "    .dataframe tbody tr th:only-of-type {\n",
       "        vertical-align: middle;\n",
       "    }\n",
       "\n",
       "    .dataframe tbody tr th {\n",
       "        vertical-align: top;\n",
       "    }\n",
       "\n",
       "    .dataframe thead th {\n",
       "        text-align: right;\n",
       "    }\n",
       "</style>\n",
       "<table border=\"1\" class=\"dataframe\">\n",
       "  <thead>\n",
       "    <tr style=\"text-align: right;\">\n",
       "      <th></th>\n",
       "      <th>Temperature</th>\n",
       "      <th>Humidity</th>\n",
       "      <th>Light</th>\n",
       "      <th>CO2</th>\n",
       "      <th>HumidityRatio</th>\n",
       "    </tr>\n",
       "  </thead>\n",
       "  <tbody>\n",
       "    <tr>\n",
       "      <th>0</th>\n",
       "      <td>19.39</td>\n",
       "      <td>25.890000</td>\n",
       "      <td>0.0</td>\n",
       "      <td>471.000000</td>\n",
       "      <td>0.003599</td>\n",
       "    </tr>\n",
       "    <tr>\n",
       "      <th>1</th>\n",
       "      <td>20.50</td>\n",
       "      <td>33.500000</td>\n",
       "      <td>0.0</td>\n",
       "      <td>645.000000</td>\n",
       "      <td>0.005000</td>\n",
       "    </tr>\n",
       "    <tr>\n",
       "      <th>2</th>\n",
       "      <td>20.20</td>\n",
       "      <td>19.100000</td>\n",
       "      <td>0.0</td>\n",
       "      <td>447.000000</td>\n",
       "      <td>0.002789</td>\n",
       "    </tr>\n",
       "    <tr>\n",
       "      <th>3</th>\n",
       "      <td>21.29</td>\n",
       "      <td>33.145000</td>\n",
       "      <td>464.0</td>\n",
       "      <td>1421.750000</td>\n",
       "      <td>0.005195</td>\n",
       "    </tr>\n",
       "    <tr>\n",
       "      <th>4</th>\n",
       "      <td>20.50</td>\n",
       "      <td>31.163333</td>\n",
       "      <td>441.0</td>\n",
       "      <td>970.333333</td>\n",
       "      <td>0.004649</td>\n",
       "    </tr>\n",
       "  </tbody>\n",
       "</table>\n",
       "</div>"
      ],
      "text/plain": [
       "   Temperature   Humidity  Light          CO2  HumidityRatio\n",
       "0        19.39  25.890000    0.0   471.000000       0.003599\n",
       "1        20.50  33.500000    0.0   645.000000       0.005000\n",
       "2        20.20  19.100000    0.0   447.000000       0.002789\n",
       "3        21.29  33.145000  464.0  1421.750000       0.005195\n",
       "4        20.50  31.163333  441.0   970.333333       0.004649"
      ]
     },
     "execution_count": 6,
     "metadata": {},
     "output_type": "execute_result"
    }
   ],
   "source": [
    "# Remove label class from training set\n",
    "train_df = train_df_occ.drop(columns=['Occupancy'])\n",
    "train_df.head()"
   ]
  },
  {
   "cell_type": "code",
   "execution_count": 7,
   "metadata": {},
   "outputs": [
    {
     "data": {
      "text/html": [
       "<div>\n",
       "<style scoped>\n",
       "    .dataframe tbody tr th:only-of-type {\n",
       "        vertical-align: middle;\n",
       "    }\n",
       "\n",
       "    .dataframe tbody tr th {\n",
       "        vertical-align: top;\n",
       "    }\n",
       "\n",
       "    .dataframe thead th {\n",
       "        text-align: right;\n",
       "    }\n",
       "</style>\n",
       "<table border=\"1\" class=\"dataframe\">\n",
       "  <thead>\n",
       "    <tr style=\"text-align: right;\">\n",
       "      <th></th>\n",
       "      <th>Temperature</th>\n",
       "      <th>Humidity</th>\n",
       "      <th>Light</th>\n",
       "      <th>CO2</th>\n",
       "      <th>HumidityRatio</th>\n",
       "    </tr>\n",
       "  </thead>\n",
       "  <tbody>\n",
       "    <tr>\n",
       "      <th>0</th>\n",
       "      <td>20.718</td>\n",
       "      <td>25.100</td>\n",
       "      <td>0.000000</td>\n",
       "      <td>512.400000</td>\n",
       "      <td>0.003790</td>\n",
       "    </tr>\n",
       "    <tr>\n",
       "      <th>1</th>\n",
       "      <td>21.000</td>\n",
       "      <td>23.290</td>\n",
       "      <td>0.000000</td>\n",
       "      <td>509.333333</td>\n",
       "      <td>0.003577</td>\n",
       "    </tr>\n",
       "    <tr>\n",
       "      <th>2</th>\n",
       "      <td>21.600</td>\n",
       "      <td>28.390</td>\n",
       "      <td>0.000000</td>\n",
       "      <td>895.000000</td>\n",
       "      <td>0.004530</td>\n",
       "    </tr>\n",
       "    <tr>\n",
       "      <th>3</th>\n",
       "      <td>23.000</td>\n",
       "      <td>26.200</td>\n",
       "      <td>651.666667</td>\n",
       "      <td>1006.166667</td>\n",
       "      <td>0.004553</td>\n",
       "    </tr>\n",
       "    <tr>\n",
       "      <th>4</th>\n",
       "      <td>22.390</td>\n",
       "      <td>24.912</td>\n",
       "      <td>418.600000</td>\n",
       "      <td>782.800000</td>\n",
       "      <td>0.004169</td>\n",
       "    </tr>\n",
       "  </tbody>\n",
       "</table>\n",
       "</div>"
      ],
      "text/plain": [
       "   Temperature  Humidity       Light          CO2  HumidityRatio\n",
       "0       20.718    25.100    0.000000   512.400000       0.003790\n",
       "1       21.000    23.290    0.000000   509.333333       0.003577\n",
       "2       21.600    28.390    0.000000   895.000000       0.004530\n",
       "3       23.000    26.200  651.666667  1006.166667       0.004553\n",
       "4       22.390    24.912  418.600000   782.800000       0.004169"
      ]
     },
     "execution_count": 7,
     "metadata": {},
     "output_type": "execute_result"
    }
   ],
   "source": [
    "test_df.head()"
   ]
  },
  {
   "cell_type": "code",
   "execution_count": 12,
   "metadata": {},
   "outputs": [
    {
     "name": "stdout",
     "output_type": "stream",
     "text": [
      "[[1.93900000e+01 2.58900000e+01 0.00000000e+00 4.71000000e+02\n",
      "  3.59944168e-03]\n",
      " [2.05000000e+01 3.35000000e+01 0.00000000e+00 6.45000000e+02\n",
      "  5.00026877e-03]\n",
      " [2.02000000e+01 1.91000000e+01 0.00000000e+00 4.47000000e+02\n",
      "  2.78867884e-03]\n",
      " [2.12900000e+01 3.31450000e+01 4.64000000e+02 1.42175000e+03\n",
      "  5.19526883e-03]\n",
      " [2.05000000e+01 3.11633333e+01 4.41000000e+02 9.70333333e+02\n",
      "  4.64888703e-03]]\n",
      "[[2.07180000e+01 2.51000000e+01 0.00000000e+00 5.12400000e+02\n",
      "  3.78983396e-03]\n",
      " [2.10000000e+01 2.32900000e+01 0.00000000e+00 5.09333333e+02\n",
      "  3.57688025e-03]\n",
      " [2.16000000e+01 2.83900000e+01 0.00000000e+00 8.95000000e+02\n",
      "  4.53045755e-03]\n",
      " [2.30000000e+01 2.62000000e+01 6.51666667e+02 1.00616667e+03\n",
      "  4.55297916e-03]\n",
      " [2.23900000e+01 2.49120000e+01 4.18600000e+02 7.82800000e+02\n",
      "  4.16930286e-03]]\n",
      "hi\n",
      "[0 0 0 1 1]\n"
     ]
    }
   ],
   "source": [
    "# Transfer type of ddtaframe to numpy array for training and test sets and label set\n",
    "train_array = np.array(train_df)\n",
    "print(train_array[0:5])\n",
    "test_array = np.array(test_df)\n",
    "print(test_array[0:5])\n",
    "occlabel_array = np.array(occlabel_df)\n",
    "print(occlabel_array[0:5])"
   ]
  },
  {
   "cell_type": "markdown",
   "metadata": {},
   "source": [
    "# Decision Tree Classifier"
   ]
  },
  {
   "cell_type": "code",
   "execution_count": 13,
   "metadata": {},
   "outputs": [
    {
     "data": {
      "text/plain": [
       "DecisionTreeClassifier()"
      ]
     },
     "execution_count": 13,
     "metadata": {},
     "output_type": "execute_result"
    }
   ],
   "source": [
    "model = tree.DecisionTreeClassifier()\n",
    "model.fit(train_array,occlabel_array)"
   ]
  },
  {
   "cell_type": "code",
   "execution_count": 14,
   "metadata": {},
   "outputs": [
    {
     "data": {
      "text/plain": [
       "1.0"
      ]
     },
     "execution_count": 14,
     "metadata": {},
     "output_type": "execute_result"
    }
   ],
   "source": [
    "model.score(train_array,occlabel_array)"
   ]
  },
  {
   "cell_type": "code",
   "execution_count": 17,
   "metadata": {},
   "outputs": [],
   "source": [
    "y_pred = model.predict(test_array)\n",
    "y_test = test_df_occ['Occupancy']"
   ]
  },
  {
   "cell_type": "code",
   "execution_count": 18,
   "metadata": {},
   "outputs": [
    {
     "name": "stdout",
     "output_type": "stream",
     "text": [
      "Accuracy: 0.9204502814258911\n"
     ]
    }
   ],
   "source": [
    "from sklearn.metrics import accuracy_score\n",
    "print(\"Accuracy:\",accuracy_score(y_test, y_pred))"
   ]
  },
  {
   "cell_type": "markdown",
   "metadata": {},
   "source": []
  }
 ],
 "metadata": {
  "interpreter": {
   "hash": "f780187f9c986ab074d78828cd31b7818345317e77a7c69571293bd4c74e5e31"
  },
  "kernelspec": {
   "display_name": "Python 3.7.11 64-bit ('myenv': conda)",
   "name": "python3"
  },
  "language_info": {
   "codemirror_mode": {
    "name": "ipython",
    "version": 3
   },
   "file_extension": ".py",
   "mimetype": "text/x-python",
   "name": "python",
   "nbconvert_exporter": "python",
   "pygments_lexer": "ipython3",
   "version": "3.7.11"
  },
  "orig_nbformat": 4
 },
 "nbformat": 4,
 "nbformat_minor": 2
}
