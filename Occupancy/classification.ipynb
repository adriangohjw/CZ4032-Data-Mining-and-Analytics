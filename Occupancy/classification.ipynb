{
 "cells": [
  {
   "cell_type": "markdown",
   "metadata": {},
   "source": [
    "# **DATA PREPROCESSING**"
   ]
  },
  {
   "cell_type": "code",
   "execution_count": 121,
   "metadata": {},
   "outputs": [],
   "source": [
    "import pandas as pd\n",
    "import numpy as np\n",
    "from sklearn.model_selection import train_test_split"
   ]
  },
  {
   "cell_type": "code",
   "execution_count": 122,
   "metadata": {},
   "outputs": [
    {
     "data": {
      "text/html": [
       "<div>\n",
       "<style scoped>\n",
       "    .dataframe tbody tr th:only-of-type {\n",
       "        vertical-align: middle;\n",
       "    }\n",
       "\n",
       "    .dataframe tbody tr th {\n",
       "        vertical-align: top;\n",
       "    }\n",
       "\n",
       "    .dataframe thead th {\n",
       "        text-align: right;\n",
       "    }\n",
       "</style>\n",
       "<table border=\"1\" class=\"dataframe\">\n",
       "  <thead>\n",
       "    <tr style=\"text-align: right;\">\n",
       "      <th></th>\n",
       "      <th>Temperature</th>\n",
       "      <th>Humidity</th>\n",
       "      <th>Light</th>\n",
       "      <th>CO2</th>\n",
       "      <th>HumidityRatio</th>\n",
       "      <th>Occupancy</th>\n",
       "    </tr>\n",
       "  </thead>\n",
       "  <tbody>\n",
       "    <tr>\n",
       "      <th>0</th>\n",
       "      <td>20.200000</td>\n",
       "      <td>33.000000</td>\n",
       "      <td>0.0</td>\n",
       "      <td>444.00</td>\n",
       "      <td>0.004834</td>\n",
       "      <td>0</td>\n",
       "    </tr>\n",
       "    <tr>\n",
       "      <th>1</th>\n",
       "      <td>22.166667</td>\n",
       "      <td>21.463333</td>\n",
       "      <td>518.0</td>\n",
       "      <td>898.00</td>\n",
       "      <td>0.003540</td>\n",
       "      <td>1</td>\n",
       "    </tr>\n",
       "    <tr>\n",
       "      <th>2</th>\n",
       "      <td>20.200000</td>\n",
       "      <td>21.200000</td>\n",
       "      <td>0.0</td>\n",
       "      <td>439.00</td>\n",
       "      <td>0.003097</td>\n",
       "      <td>0</td>\n",
       "    </tr>\n",
       "    <tr>\n",
       "      <th>3</th>\n",
       "      <td>19.700000</td>\n",
       "      <td>19.500000</td>\n",
       "      <td>0.0</td>\n",
       "      <td>452.00</td>\n",
       "      <td>0.002760</td>\n",
       "      <td>0</td>\n",
       "    </tr>\n",
       "    <tr>\n",
       "      <th>4</th>\n",
       "      <td>19.890000</td>\n",
       "      <td>26.600000</td>\n",
       "      <td>0.0</td>\n",
       "      <td>441.00</td>\n",
       "      <td>0.003816</td>\n",
       "      <td>0</td>\n",
       "    </tr>\n",
       "    <tr>\n",
       "      <th>...</th>\n",
       "      <td>...</td>\n",
       "      <td>...</td>\n",
       "      <td>...</td>\n",
       "      <td>...</td>\n",
       "      <td>...</td>\n",
       "      <td>...</td>\n",
       "    </tr>\n",
       "    <tr>\n",
       "      <th>10803</th>\n",
       "      <td>19.390000</td>\n",
       "      <td>30.745000</td>\n",
       "      <td>0.0</td>\n",
       "      <td>436.00</td>\n",
       "      <td>0.004279</td>\n",
       "      <td>0</td>\n",
       "    </tr>\n",
       "    <tr>\n",
       "      <th>10804</th>\n",
       "      <td>20.290000</td>\n",
       "      <td>33.200000</td>\n",
       "      <td>0.0</td>\n",
       "      <td>454.00</td>\n",
       "      <td>0.004891</td>\n",
       "      <td>0</td>\n",
       "    </tr>\n",
       "    <tr>\n",
       "      <th>10805</th>\n",
       "      <td>19.600000</td>\n",
       "      <td>19.500000</td>\n",
       "      <td>13.5</td>\n",
       "      <td>454.50</td>\n",
       "      <td>0.002743</td>\n",
       "      <td>0</td>\n",
       "    </tr>\n",
       "    <tr>\n",
       "      <th>10806</th>\n",
       "      <td>21.500000</td>\n",
       "      <td>24.100000</td>\n",
       "      <td>0.0</td>\n",
       "      <td>612.75</td>\n",
       "      <td>0.003818</td>\n",
       "      <td>0</td>\n",
       "    </tr>\n",
       "    <tr>\n",
       "      <th>10807</th>\n",
       "      <td>23.000000</td>\n",
       "      <td>30.075000</td>\n",
       "      <td>464.0</td>\n",
       "      <td>1273.25</td>\n",
       "      <td>0.005232</td>\n",
       "      <td>1</td>\n",
       "    </tr>\n",
       "  </tbody>\n",
       "</table>\n",
       "<p>10808 rows × 6 columns</p>\n",
       "</div>"
      ],
      "text/plain": [
       "       Temperature   Humidity  Light      CO2  HumidityRatio  Occupancy\n",
       "0        20.200000  33.000000    0.0   444.00       0.004834          0\n",
       "1        22.166667  21.463333  518.0   898.00       0.003540          1\n",
       "2        20.200000  21.200000    0.0   439.00       0.003097          0\n",
       "3        19.700000  19.500000    0.0   452.00       0.002760          0\n",
       "4        19.890000  26.600000    0.0   441.00       0.003816          0\n",
       "...            ...        ...    ...      ...            ...        ...\n",
       "10803    19.390000  30.745000    0.0   436.00       0.004279          0\n",
       "10804    20.290000  33.200000    0.0   454.00       0.004891          0\n",
       "10805    19.600000  19.500000   13.5   454.50       0.002743          0\n",
       "10806    21.500000  24.100000    0.0   612.75       0.003818          0\n",
       "10807    23.000000  30.075000  464.0  1273.25       0.005232          1\n",
       "\n",
       "[10808 rows x 6 columns]"
      ]
     },
     "execution_count": 122,
     "metadata": {},
     "output_type": "execute_result"
    }
   ],
   "source": [
    "data=pd.read_csv('data.csv')\n",
    "data"
   ]
  },
  {
   "cell_type": "code",
   "execution_count": 123,
   "metadata": {},
   "outputs": [
    {
     "name": "stdout",
     "output_type": "stream",
     "text": [
      "<class 'pandas.core.frame.DataFrame'>\n",
      "RangeIndex: 10808 entries, 0 to 10807\n",
      "Data columns (total 6 columns):\n",
      " #   Column         Non-Null Count  Dtype  \n",
      "---  ------         --------------  -----  \n",
      " 0   Temperature    10808 non-null  float64\n",
      " 1   Humidity       10808 non-null  float64\n",
      " 2   Light          10808 non-null  float64\n",
      " 3   CO2            10808 non-null  float64\n",
      " 4   HumidityRatio  10808 non-null  float64\n",
      " 5   Occupancy      10808 non-null  int64  \n",
      "dtypes: float64(5), int64(1)\n",
      "memory usage: 506.8 KB\n"
     ]
    }
   ],
   "source": [
    "data.info()"
   ]
  },
  {
   "cell_type": "code",
   "execution_count": null,
   "metadata": {},
   "outputs": [],
   "source": []
  },
  {
   "cell_type": "markdown",
   "metadata": {},
   "source": [
    "# Data Exploration"
   ]
  },
  {
   "cell_type": "code",
   "execution_count": 124,
   "metadata": {},
   "outputs": [
    {
     "data": {
      "image/png": "[encoded data removed]",
      "text/plain": [
       "<Figure size 864x648 with 2 Axes>"
      ]
     },
     "metadata": {
      "needs_background": "light"
     },
     "output_type": "display_data"
    }
   ],
   "source": [
    "import matplotlib.pyplot as plt\n",
    "import seaborn as sns\n",
    "#correlation matrix\n",
    "corrmat = data.corr()\n",
    "f, ax = plt.subplots(figsize=(12, 9))\n",
    "sns.heatmap(corrmat, vmax=1, square=True);"
   ]
  },
  {
   "cell_type": "code",
   "execution_count": 125,
   "metadata": {},
   "outputs": [
    {
     "data": {
      "image/png": "[encoded data removed]",
      "text/plain": [
       "<Figure size 1440x864 with 2 Axes>"
      ]
     },
     "metadata": {},
     "output_type": "display_data"
    }
   ],
   "source": [
    "#correlation matrix\n",
    "k = len(data.columns) #number of variables for heatmap\n",
    "cols = corrmat.nlargest(k, 'Occupancy')['Occupancy'].index\n",
    "cm = np.corrcoef(data[cols].values.T)\n",
    "sns.set(font_scale=1)\n",
    "f, ax = plt.subplots(figsize=(20, 12))\n",
    "hm = sns.heatmap(cm, cbar=True, annot=True, square=True, fmt='.2f', annot_kws={'size': 15}, yticklabels=cols.values, xticklabels=cols.values)\n",
    "plt.show()\n"
   ]
  },
  {
   "cell_type": "code",
   "execution_count": 126,
   "metadata": {},
   "outputs": [
    {
     "data": {
      "text/plain": [
       "Index(['Temperature', 'Humidity', 'Light', 'CO2', 'HumidityRatio',\n",
       "       'Occupancy'],\n",
       "      dtype='object')"
      ]
     },
     "execution_count": 126,
     "metadata": {},
     "output_type": "execute_result"
    }
   ],
   "source": [
    "data.columns"
   ]
  },
  {
   "cell_type": "code",
   "execution_count": 127,
   "metadata": {},
   "outputs": [
    {
     "data": {
      "text/html": [
       "<div>\n",
       "<style scoped>\n",
       "    .dataframe tbody tr th:only-of-type {\n",
       "        vertical-align: middle;\n",
       "    }\n",
       "\n",
       "    .dataframe tbody tr th {\n",
       "        vertical-align: top;\n",
       "    }\n",
       "\n",
       "    .dataframe thead th {\n",
       "        text-align: right;\n",
       "    }\n",
       "</style>\n",
       "<table border=\"1\" class=\"dataframe\">\n",
       "  <thead>\n",
       "    <tr style=\"text-align: right;\">\n",
       "      <th></th>\n",
       "      <th>Temperature</th>\n",
       "      <th>Light</th>\n",
       "      <th>CO2</th>\n",
       "      <th>HumidityRatio</th>\n",
       "      <th>Occupancy</th>\n",
       "    </tr>\n",
       "  </thead>\n",
       "  <tbody>\n",
       "    <tr>\n",
       "      <th>0</th>\n",
       "      <td>20.200000</td>\n",
       "      <td>0.0</td>\n",
       "      <td>444.0</td>\n",
       "      <td>0.004834</td>\n",
       "      <td>0</td>\n",
       "    </tr>\n",
       "    <tr>\n",
       "      <th>1</th>\n",
       "      <td>22.166667</td>\n",
       "      <td>518.0</td>\n",
       "      <td>898.0</td>\n",
       "      <td>0.003540</td>\n",
       "      <td>1</td>\n",
       "    </tr>\n",
       "    <tr>\n",
       "      <th>2</th>\n",
       "      <td>20.200000</td>\n",
       "      <td>0.0</td>\n",
       "      <td>439.0</td>\n",
       "      <td>0.003097</td>\n",
       "      <td>0</td>\n",
       "    </tr>\n",
       "    <tr>\n",
       "      <th>3</th>\n",
       "      <td>19.700000</td>\n",
       "      <td>0.0</td>\n",
       "      <td>452.0</td>\n",
       "      <td>0.002760</td>\n",
       "      <td>0</td>\n",
       "    </tr>\n",
       "    <tr>\n",
       "      <th>4</th>\n",
       "      <td>19.890000</td>\n",
       "      <td>0.0</td>\n",
       "      <td>441.0</td>\n",
       "      <td>0.003816</td>\n",
       "      <td>0</td>\n",
       "    </tr>\n",
       "  </tbody>\n",
       "</table>\n",
       "</div>"
      ],
      "text/plain": [
       "   Temperature  Light    CO2  HumidityRatio  Occupancy\n",
       "0    20.200000    0.0  444.0       0.004834          0\n",
       "1    22.166667  518.0  898.0       0.003540          1\n",
       "2    20.200000    0.0  439.0       0.003097          0\n",
       "3    19.700000    0.0  452.0       0.002760          0\n",
       "4    19.890000    0.0  441.0       0.003816          0"
      ]
     },
     "execution_count": 127,
     "metadata": {},
     "output_type": "execute_result"
    }
   ],
   "source": [
    "#Remove correlation below 0.2\n",
    "data.drop('Humidity',axis=1,inplace=True)\n",
    "data.head()\n"
   ]
  },
  {
   "cell_type": "code",
   "execution_count": null,
   "metadata": {},
   "outputs": [],
   "source": []
  },
  {
   "cell_type": "markdown",
   "metadata": {},
   "source": [
    "# Prepare train and test dataset"
   ]
  },
  {
   "cell_type": "code",
   "execution_count": 128,
   "metadata": {},
   "outputs": [],
   "source": [
    "#creating our X feature variables and y outcome variable\n",
    "#X = data.drop('diagnosis',axis=1)\n",
    "X = data.drop('Occupancy',axis=1)\n",
    "y = data['Occupancy']"
   ]
  },
  {
   "cell_type": "code",
   "execution_count": 129,
   "metadata": {},
   "outputs": [],
   "source": [
    "#splitting our data into training and testing data set\n",
    "X_train,X_test,y_train,y_test=train_test_split(X,y,test_size=0.2,random_state=2)"
   ]
  },
  {
   "cell_type": "code",
   "execution_count": null,
   "metadata": {},
   "outputs": [],
   "source": []
  },
  {
   "cell_type": "markdown",
   "metadata": {},
   "source": [
    "# **Random Forest Classification**"
   ]
  },
  {
   "cell_type": "code",
   "execution_count": 130,
   "metadata": {},
   "outputs": [
    {
     "data": {
      "text/plain": [
       "RandomForestClassifier()"
      ]
     },
     "execution_count": 130,
     "metadata": {},
     "output_type": "execute_result"
    }
   ],
   "source": [
    "#Random Forest Classification\n",
    "from sklearn.ensemble import RandomForestClassifier\n",
    "\n",
    "clf=RandomForestClassifier()\n",
    "clf.fit(X_train,y_train)\n"
   ]
  },
  {
   "cell_type": "code",
   "execution_count": 131,
   "metadata": {},
   "outputs": [
    {
     "name": "stdout",
     "output_type": "stream",
     "text": [
      "[0 0 0 ... 0 0 0]\n"
     ]
    }
   ],
   "source": [
    "#To predict occupancy using the test's set features\n",
    "clf_pred=clf.predict(X_test)\n",
    "print(clf_pred)"
   ]
  },
  {
   "cell_type": "code",
   "execution_count": 132,
   "metadata": {},
   "outputs": [
    {
     "data": {
      "text/html": [
       "<div>\n",
       "<style scoped>\n",
       "    .dataframe tbody tr th:only-of-type {\n",
       "        vertical-align: middle;\n",
       "    }\n",
       "\n",
       "    .dataframe tbody tr th {\n",
       "        vertical-align: top;\n",
       "    }\n",
       "\n",
       "    .dataframe thead th {\n",
       "        text-align: right;\n",
       "    }\n",
       "</style>\n",
       "<table border=\"1\" class=\"dataframe\">\n",
       "  <thead>\n",
       "    <tr style=\"text-align: right;\">\n",
       "      <th></th>\n",
       "      <th>Occupancy</th>\n",
       "    </tr>\n",
       "  </thead>\n",
       "  <tbody>\n",
       "    <tr>\n",
       "      <th>0</th>\n",
       "      <td>0</td>\n",
       "    </tr>\n",
       "    <tr>\n",
       "      <th>1</th>\n",
       "      <td>0</td>\n",
       "    </tr>\n",
       "    <tr>\n",
       "      <th>2</th>\n",
       "      <td>0</td>\n",
       "    </tr>\n",
       "    <tr>\n",
       "      <th>3</th>\n",
       "      <td>1</td>\n",
       "    </tr>\n",
       "    <tr>\n",
       "      <th>4</th>\n",
       "      <td>0</td>\n",
       "    </tr>\n",
       "    <tr>\n",
       "      <th>5</th>\n",
       "      <td>0</td>\n",
       "    </tr>\n",
       "    <tr>\n",
       "      <th>6</th>\n",
       "      <td>0</td>\n",
       "    </tr>\n",
       "    <tr>\n",
       "      <th>7</th>\n",
       "      <td>0</td>\n",
       "    </tr>\n",
       "    <tr>\n",
       "      <th>8</th>\n",
       "      <td>0</td>\n",
       "    </tr>\n",
       "    <tr>\n",
       "      <th>9</th>\n",
       "      <td>1</td>\n",
       "    </tr>\n",
       "  </tbody>\n",
       "</table>\n",
       "</div>"
      ],
      "text/plain": [
       "   Occupancy\n",
       "0          0\n",
       "1          0\n",
       "2          0\n",
       "3          1\n",
       "4          0\n",
       "5          0\n",
       "6          0\n",
       "7          0\n",
       "8          0\n",
       "9          1"
      ]
     },
     "execution_count": 132,
     "metadata": {},
     "output_type": "execute_result"
    }
   ],
   "source": [
    "# Transfer the array of predicted popularity of test data into dataframe\n",
    "clf_pred_df = pd.DataFrame(data=clf_pred, columns=['Occupancy'])\n",
    "clf_pred_df.head(10)"
   ]
  },
  {
   "cell_type": "code",
   "execution_count": 133,
   "metadata": {},
   "outputs": [
    {
     "data": {
      "text/plain": [
       "array([[1., 0.],\n",
       "       [1., 0.],\n",
       "       [1., 0.],\n",
       "       ...,\n",
       "       [1., 0.],\n",
       "       [1., 0.],\n",
       "       [1., 0.]])"
      ]
     },
     "execution_count": 133,
     "metadata": {},
     "output_type": "execute_result"
    }
   ],
   "source": [
    "RFprob_each = clf.predict_proba(X_test)\n",
    "RFprob_each"
   ]
  },
  {
   "cell_type": "code",
   "execution_count": 134,
   "metadata": {},
   "outputs": [
    {
     "data": {
      "text/plain": [
       "[0.0, 0.0, 0.0, 0.97, 0.0, 0.0, 0.0, 0.0, 0.0, 1.0]"
      ]
     },
     "execution_count": 134,
     "metadata": {},
     "output_type": "execute_result"
    }
   ],
   "source": [
    "pos_prob = []\n",
    "for inner in RFprob_each:\n",
    "    pos_prob.append(inner[1])\n",
    "pos_prob[0:10]\n"
   ]
  },
  {
   "cell_type": "code",
   "execution_count": 135,
   "metadata": {},
   "outputs": [
    {
     "data": {
      "text/html": [
       "<div>\n",
       "<style scoped>\n",
       "    .dataframe tbody tr th:only-of-type {\n",
       "        vertical-align: middle;\n",
       "    }\n",
       "\n",
       "    .dataframe tbody tr th {\n",
       "        vertical-align: top;\n",
       "    }\n",
       "\n",
       "    .dataframe thead th {\n",
       "        text-align: right;\n",
       "    }\n",
       "</style>\n",
       "<table border=\"1\" class=\"dataframe\">\n",
       "  <thead>\n",
       "    <tr style=\"text-align: right;\">\n",
       "      <th></th>\n",
       "      <th>Temperature</th>\n",
       "      <th>Light</th>\n",
       "      <th>CO2</th>\n",
       "      <th>HumidityRatio</th>\n",
       "    </tr>\n",
       "  </thead>\n",
       "  <tbody>\n",
       "    <tr>\n",
       "      <th>5291</th>\n",
       "      <td>19.890000</td>\n",
       "      <td>0.0</td>\n",
       "      <td>440.50</td>\n",
       "      <td>0.003771</td>\n",
       "    </tr>\n",
       "    <tr>\n",
       "      <th>8986</th>\n",
       "      <td>19.426667</td>\n",
       "      <td>0.0</td>\n",
       "      <td>460.00</td>\n",
       "      <td>0.003748</td>\n",
       "    </tr>\n",
       "    <tr>\n",
       "      <th>1367</th>\n",
       "      <td>19.890000</td>\n",
       "      <td>0.0</td>\n",
       "      <td>442.50</td>\n",
       "      <td>0.002721</td>\n",
       "    </tr>\n",
       "    <tr>\n",
       "      <th>4943</th>\n",
       "      <td>21.500000</td>\n",
       "      <td>507.5</td>\n",
       "      <td>655.50</td>\n",
       "      <td>0.003081</td>\n",
       "    </tr>\n",
       "    <tr>\n",
       "      <th>9903</th>\n",
       "      <td>19.500000</td>\n",
       "      <td>0.0</td>\n",
       "      <td>467.00</td>\n",
       "      <td>0.003695</td>\n",
       "    </tr>\n",
       "    <tr>\n",
       "      <th>...</th>\n",
       "      <td>...</td>\n",
       "      <td>...</td>\n",
       "      <td>...</td>\n",
       "      <td>...</td>\n",
       "    </tr>\n",
       "    <tr>\n",
       "      <th>7069</th>\n",
       "      <td>21.500000</td>\n",
       "      <td>0.0</td>\n",
       "      <td>740.00</td>\n",
       "      <td>0.003277</td>\n",
       "    </tr>\n",
       "    <tr>\n",
       "      <th>2641</th>\n",
       "      <td>19.100000</td>\n",
       "      <td>0.0</td>\n",
       "      <td>433.00</td>\n",
       "      <td>0.004298</td>\n",
       "    </tr>\n",
       "    <tr>\n",
       "      <th>5534</th>\n",
       "      <td>20.315000</td>\n",
       "      <td>0.0</td>\n",
       "      <td>487.00</td>\n",
       "      <td>0.004869</td>\n",
       "    </tr>\n",
       "    <tr>\n",
       "      <th>1608</th>\n",
       "      <td>20.700000</td>\n",
       "      <td>0.0</td>\n",
       "      <td>493.25</td>\n",
       "      <td>0.003770</td>\n",
       "    </tr>\n",
       "    <tr>\n",
       "      <th>8770</th>\n",
       "      <td>20.700000</td>\n",
       "      <td>0.0</td>\n",
       "      <td>509.75</td>\n",
       "      <td>0.003778</td>\n",
       "    </tr>\n",
       "  </tbody>\n",
       "</table>\n",
       "<p>2162 rows × 4 columns</p>\n",
       "</div>"
      ],
      "text/plain": [
       "      Temperature  Light     CO2  HumidityRatio\n",
       "5291    19.890000    0.0  440.50       0.003771\n",
       "8986    19.426667    0.0  460.00       0.003748\n",
       "1367    19.890000    0.0  442.50       0.002721\n",
       "4943    21.500000  507.5  655.50       0.003081\n",
       "9903    19.500000    0.0  467.00       0.003695\n",
       "...           ...    ...     ...            ...\n",
       "7069    21.500000    0.0  740.00       0.003277\n",
       "2641    19.100000    0.0  433.00       0.004298\n",
       "5534    20.315000    0.0  487.00       0.004869\n",
       "1608    20.700000    0.0  493.25       0.003770\n",
       "8770    20.700000    0.0  509.75       0.003778\n",
       "\n",
       "[2162 rows x 4 columns]"
      ]
     },
     "execution_count": 135,
     "metadata": {},
     "output_type": "execute_result"
    }
   ],
   "source": [
    "X_test"
   ]
  },
  {
   "cell_type": "code",
   "execution_count": 136,
   "metadata": {},
   "outputs": [
    {
     "data": {
      "text/html": [
       "<div>\n",
       "<style scoped>\n",
       "    .dataframe tbody tr th:only-of-type {\n",
       "        vertical-align: middle;\n",
       "    }\n",
       "\n",
       "    .dataframe tbody tr th {\n",
       "        vertical-align: top;\n",
       "    }\n",
       "\n",
       "    .dataframe thead th {\n",
       "        text-align: right;\n",
       "    }\n",
       "</style>\n",
       "<table border=\"1\" class=\"dataframe\">\n",
       "  <thead>\n",
       "    <tr style=\"text-align: right;\">\n",
       "      <th></th>\n",
       "      <th>Temperature</th>\n",
       "      <th>Light</th>\n",
       "      <th>CO2</th>\n",
       "      <th>HumidityRatio</th>\n",
       "      <th>y_test Occupancy</th>\n",
       "    </tr>\n",
       "  </thead>\n",
       "  <tbody>\n",
       "    <tr>\n",
       "      <th>0</th>\n",
       "      <td>19.890000</td>\n",
       "      <td>0.0</td>\n",
       "      <td>440.50</td>\n",
       "      <td>0.003771</td>\n",
       "      <td>0</td>\n",
       "    </tr>\n",
       "    <tr>\n",
       "      <th>1</th>\n",
       "      <td>19.426667</td>\n",
       "      <td>0.0</td>\n",
       "      <td>460.00</td>\n",
       "      <td>0.003748</td>\n",
       "      <td>0</td>\n",
       "    </tr>\n",
       "    <tr>\n",
       "      <th>2</th>\n",
       "      <td>19.890000</td>\n",
       "      <td>0.0</td>\n",
       "      <td>442.50</td>\n",
       "      <td>0.002721</td>\n",
       "      <td>0</td>\n",
       "    </tr>\n",
       "    <tr>\n",
       "      <th>3</th>\n",
       "      <td>21.500000</td>\n",
       "      <td>507.5</td>\n",
       "      <td>655.50</td>\n",
       "      <td>0.003081</td>\n",
       "      <td>1</td>\n",
       "    </tr>\n",
       "    <tr>\n",
       "      <th>4</th>\n",
       "      <td>19.500000</td>\n",
       "      <td>0.0</td>\n",
       "      <td>467.00</td>\n",
       "      <td>0.003695</td>\n",
       "      <td>0</td>\n",
       "    </tr>\n",
       "    <tr>\n",
       "      <th>...</th>\n",
       "      <td>...</td>\n",
       "      <td>...</td>\n",
       "      <td>...</td>\n",
       "      <td>...</td>\n",
       "      <td>...</td>\n",
       "    </tr>\n",
       "    <tr>\n",
       "      <th>2157</th>\n",
       "      <td>21.500000</td>\n",
       "      <td>0.0</td>\n",
       "      <td>740.00</td>\n",
       "      <td>0.003277</td>\n",
       "      <td>0</td>\n",
       "    </tr>\n",
       "    <tr>\n",
       "      <th>2158</th>\n",
       "      <td>19.100000</td>\n",
       "      <td>0.0</td>\n",
       "      <td>433.00</td>\n",
       "      <td>0.004298</td>\n",
       "      <td>0</td>\n",
       "    </tr>\n",
       "    <tr>\n",
       "      <th>2159</th>\n",
       "      <td>20.315000</td>\n",
       "      <td>0.0</td>\n",
       "      <td>487.00</td>\n",
       "      <td>0.004869</td>\n",
       "      <td>0</td>\n",
       "    </tr>\n",
       "    <tr>\n",
       "      <th>2160</th>\n",
       "      <td>20.700000</td>\n",
       "      <td>0.0</td>\n",
       "      <td>493.25</td>\n",
       "      <td>0.003770</td>\n",
       "      <td>0</td>\n",
       "    </tr>\n",
       "    <tr>\n",
       "      <th>2161</th>\n",
       "      <td>20.700000</td>\n",
       "      <td>0.0</td>\n",
       "      <td>509.75</td>\n",
       "      <td>0.003778</td>\n",
       "      <td>0</td>\n",
       "    </tr>\n",
       "  </tbody>\n",
       "</table>\n",
       "<p>2162 rows × 5 columns</p>\n",
       "</div>"
      ],
      "text/plain": [
       "      Temperature  Light     CO2  HumidityRatio  y_test Occupancy\n",
       "0       19.890000    0.0  440.50       0.003771                 0\n",
       "1       19.426667    0.0  460.00       0.003748                 0\n",
       "2       19.890000    0.0  442.50       0.002721                 0\n",
       "3       21.500000  507.5  655.50       0.003081                 1\n",
       "4       19.500000    0.0  467.00       0.003695                 0\n",
       "...           ...    ...     ...            ...               ...\n",
       "2157    21.500000    0.0  740.00       0.003277                 0\n",
       "2158    19.100000    0.0  433.00       0.004298                 0\n",
       "2159    20.315000    0.0  487.00       0.004869                 0\n",
       "2160    20.700000    0.0  493.25       0.003770                 0\n",
       "2161    20.700000    0.0  509.75       0.003778                 0\n",
       "\n",
       "[2162 rows x 5 columns]"
      ]
     },
     "execution_count": 136,
     "metadata": {},
     "output_type": "execute_result"
    }
   ],
   "source": [
    "X_testdf = X_test.copy()\n",
    "X_testdf.insert(len(X_testdf.columns),'y_test Occupancy',y_test)\n",
    "X_testdf=X_testdf.reset_index(drop=True)\n",
    "X_testdf"
   ]
  },
  {
   "cell_type": "code",
   "execution_count": 137,
   "metadata": {},
   "outputs": [
    {
     "data": {
      "text/html": [
       "<div>\n",
       "<style scoped>\n",
       "    .dataframe tbody tr th:only-of-type {\n",
       "        vertical-align: middle;\n",
       "    }\n",
       "\n",
       "    .dataframe tbody tr th {\n",
       "        vertical-align: top;\n",
       "    }\n",
       "\n",
       "    .dataframe thead th {\n",
       "        text-align: right;\n",
       "    }\n",
       "</style>\n",
       "<table border=\"1\" class=\"dataframe\">\n",
       "  <thead>\n",
       "    <tr style=\"text-align: right;\">\n",
       "      <th></th>\n",
       "      <th>Temperature</th>\n",
       "      <th>Light</th>\n",
       "      <th>CO2</th>\n",
       "      <th>HumidityRatio</th>\n",
       "      <th>y_test Occupancy</th>\n",
       "      <th>RForest</th>\n",
       "    </tr>\n",
       "  </thead>\n",
       "  <tbody>\n",
       "    <tr>\n",
       "      <th>0</th>\n",
       "      <td>19.890000</td>\n",
       "      <td>0.0</td>\n",
       "      <td>440.50</td>\n",
       "      <td>0.003771</td>\n",
       "      <td>0</td>\n",
       "      <td>0</td>\n",
       "    </tr>\n",
       "    <tr>\n",
       "      <th>1</th>\n",
       "      <td>19.426667</td>\n",
       "      <td>0.0</td>\n",
       "      <td>460.00</td>\n",
       "      <td>0.003748</td>\n",
       "      <td>0</td>\n",
       "      <td>0</td>\n",
       "    </tr>\n",
       "    <tr>\n",
       "      <th>2</th>\n",
       "      <td>19.890000</td>\n",
       "      <td>0.0</td>\n",
       "      <td>442.50</td>\n",
       "      <td>0.002721</td>\n",
       "      <td>0</td>\n",
       "      <td>0</td>\n",
       "    </tr>\n",
       "    <tr>\n",
       "      <th>3</th>\n",
       "      <td>21.500000</td>\n",
       "      <td>507.5</td>\n",
       "      <td>655.50</td>\n",
       "      <td>0.003081</td>\n",
       "      <td>1</td>\n",
       "      <td>1</td>\n",
       "    </tr>\n",
       "    <tr>\n",
       "      <th>4</th>\n",
       "      <td>19.500000</td>\n",
       "      <td>0.0</td>\n",
       "      <td>467.00</td>\n",
       "      <td>0.003695</td>\n",
       "      <td>0</td>\n",
       "      <td>0</td>\n",
       "    </tr>\n",
       "    <tr>\n",
       "      <th>...</th>\n",
       "      <td>...</td>\n",
       "      <td>...</td>\n",
       "      <td>...</td>\n",
       "      <td>...</td>\n",
       "      <td>...</td>\n",
       "      <td>...</td>\n",
       "    </tr>\n",
       "    <tr>\n",
       "      <th>2157</th>\n",
       "      <td>21.500000</td>\n",
       "      <td>0.0</td>\n",
       "      <td>740.00</td>\n",
       "      <td>0.003277</td>\n",
       "      <td>0</td>\n",
       "      <td>0</td>\n",
       "    </tr>\n",
       "    <tr>\n",
       "      <th>2158</th>\n",
       "      <td>19.100000</td>\n",
       "      <td>0.0</td>\n",
       "      <td>433.00</td>\n",
       "      <td>0.004298</td>\n",
       "      <td>0</td>\n",
       "      <td>0</td>\n",
       "    </tr>\n",
       "    <tr>\n",
       "      <th>2159</th>\n",
       "      <td>20.315000</td>\n",
       "      <td>0.0</td>\n",
       "      <td>487.00</td>\n",
       "      <td>0.004869</td>\n",
       "      <td>0</td>\n",
       "      <td>0</td>\n",
       "    </tr>\n",
       "    <tr>\n",
       "      <th>2160</th>\n",
       "      <td>20.700000</td>\n",
       "      <td>0.0</td>\n",
       "      <td>493.25</td>\n",
       "      <td>0.003770</td>\n",
       "      <td>0</td>\n",
       "      <td>0</td>\n",
       "    </tr>\n",
       "    <tr>\n",
       "      <th>2161</th>\n",
       "      <td>20.700000</td>\n",
       "      <td>0.0</td>\n",
       "      <td>509.75</td>\n",
       "      <td>0.003778</td>\n",
       "      <td>0</td>\n",
       "      <td>0</td>\n",
       "    </tr>\n",
       "  </tbody>\n",
       "</table>\n",
       "<p>2162 rows × 6 columns</p>\n",
       "</div>"
      ],
      "text/plain": [
       "      Temperature  Light     CO2  HumidityRatio  y_test Occupancy  RForest\n",
       "0       19.890000    0.0  440.50       0.003771                 0        0\n",
       "1       19.426667    0.0  460.00       0.003748                 0        0\n",
       "2       19.890000    0.0  442.50       0.002721                 0        0\n",
       "3       21.500000  507.5  655.50       0.003081                 1        1\n",
       "4       19.500000    0.0  467.00       0.003695                 0        0\n",
       "...           ...    ...     ...            ...               ...      ...\n",
       "2157    21.500000    0.0  740.00       0.003277                 0        0\n",
       "2158    19.100000    0.0  433.00       0.004298                 0        0\n",
       "2159    20.315000    0.0  487.00       0.004869                 0        0\n",
       "2160    20.700000    0.0  493.25       0.003770                 0        0\n",
       "2161    20.700000    0.0  509.75       0.003778                 0        0\n",
       "\n",
       "[2162 rows x 6 columns]"
      ]
     },
     "execution_count": 137,
     "metadata": {},
     "output_type": "execute_result"
    }
   ],
   "source": [
    "# Insert result, check the prediction correctness\n",
    "X_testdf.insert(len(X_testdf.columns), 'RForest', clf_pred_df['Occupancy'])\n",
    "X_testdf"
   ]
  },
  {
   "cell_type": "markdown",
   "metadata": {},
   "source": []
  },
  {
   "cell_type": "code",
   "execution_count": null,
   "metadata": {},
   "outputs": [],
   "source": []
  },
  {
   "cell_type": "markdown",
   "metadata": {},
   "source": [
    "# **Naive Bayes**"
   ]
  },
  {
   "cell_type": "code",
   "execution_count": 138,
   "metadata": {},
   "outputs": [
    {
     "data": {
      "text/plain": [
       "GaussianNB()"
      ]
     },
     "execution_count": 138,
     "metadata": {},
     "output_type": "execute_result"
    }
   ],
   "source": [
    "from sklearn.naive_bayes import GaussianNB\n",
    "\n",
    "gaus = GaussianNB()\n",
    "gaus.fit(X_train, y_train)"
   ]
  },
  {
   "cell_type": "code",
   "execution_count": 139,
   "metadata": {},
   "outputs": [
    {
     "name": "stdout",
     "output_type": "stream",
     "text": [
      "[0 0 0 ... 0 0 0]\n"
     ]
    }
   ],
   "source": [
    "# To predict occupancy using test set's features\n",
    "NB_pred= gaus.predict(X_test)\n",
    "print(NB_pred)"
   ]
  },
  {
   "cell_type": "code",
   "execution_count": 140,
   "metadata": {},
   "outputs": [
    {
     "data": {
      "text/html": [
       "<div>\n",
       "<style scoped>\n",
       "    .dataframe tbody tr th:only-of-type {\n",
       "        vertical-align: middle;\n",
       "    }\n",
       "\n",
       "    .dataframe tbody tr th {\n",
       "        vertical-align: top;\n",
       "    }\n",
       "\n",
       "    .dataframe thead th {\n",
       "        text-align: right;\n",
       "    }\n",
       "</style>\n",
       "<table border=\"1\" class=\"dataframe\">\n",
       "  <thead>\n",
       "    <tr style=\"text-align: right;\">\n",
       "      <th></th>\n",
       "      <th>Occupancy</th>\n",
       "    </tr>\n",
       "  </thead>\n",
       "  <tbody>\n",
       "    <tr>\n",
       "      <th>0</th>\n",
       "      <td>0</td>\n",
       "    </tr>\n",
       "    <tr>\n",
       "      <th>1</th>\n",
       "      <td>0</td>\n",
       "    </tr>\n",
       "    <tr>\n",
       "      <th>2</th>\n",
       "      <td>0</td>\n",
       "    </tr>\n",
       "    <tr>\n",
       "      <th>3</th>\n",
       "      <td>1</td>\n",
       "    </tr>\n",
       "    <tr>\n",
       "      <th>4</th>\n",
       "      <td>0</td>\n",
       "    </tr>\n",
       "    <tr>\n",
       "      <th>5</th>\n",
       "      <td>0</td>\n",
       "    </tr>\n",
       "    <tr>\n",
       "      <th>6</th>\n",
       "      <td>0</td>\n",
       "    </tr>\n",
       "    <tr>\n",
       "      <th>7</th>\n",
       "      <td>0</td>\n",
       "    </tr>\n",
       "    <tr>\n",
       "      <th>8</th>\n",
       "      <td>0</td>\n",
       "    </tr>\n",
       "    <tr>\n",
       "      <th>9</th>\n",
       "      <td>1</td>\n",
       "    </tr>\n",
       "  </tbody>\n",
       "</table>\n",
       "</div>"
      ],
      "text/plain": [
       "   Occupancy\n",
       "0          0\n",
       "1          0\n",
       "2          0\n",
       "3          1\n",
       "4          0\n",
       "5          0\n",
       "6          0\n",
       "7          0\n",
       "8          0\n",
       "9          1"
      ]
     },
     "execution_count": 140,
     "metadata": {},
     "output_type": "execute_result"
    }
   ],
   "source": [
    "# Transfer the array of predicted popularity of test data into dataframe\n",
    "NB_pred_df = pd.DataFrame(data=NB_pred, columns=['Occupancy'])\n",
    "NB_pred_df.head(10)"
   ]
  },
  {
   "cell_type": "code",
   "execution_count": 141,
   "metadata": {},
   "outputs": [
    {
     "data": {
      "text/plain": [
       "array([[1.00000000e+00, 3.60694359e-13],\n",
       "       [1.00000000e+00, 1.33197987e-13],\n",
       "       [1.00000000e+00, 3.59842433e-13],\n",
       "       ...,\n",
       "       [1.00000000e+00, 1.07816683e-12],\n",
       "       [1.00000000e+00, 2.48658399e-12],\n",
       "       [1.00000000e+00, 2.68076870e-12]])"
      ]
     },
     "execution_count": 141,
     "metadata": {},
     "output_type": "execute_result"
    }
   ],
   "source": [
    "NBprob_each = gaus.predict_proba(X_test)\n",
    "NBprob_each"
   ]
  },
  {
   "cell_type": "code",
   "execution_count": 142,
   "metadata": {},
   "outputs": [
    {
     "data": {
      "text/plain": [
       "[3.6069435870994693e-13,\n",
       " 1.331979865711996e-13,\n",
       " 3.598424334062771e-13,\n",
       " 0.9999989267065303,\n",
       " 1.6137441397374502e-13,\n",
       " 1.2388716756143887e-13,\n",
       " 0.003746178485857548,\n",
       " 0.00012261572916944926,\n",
       " 2.690653594077191e-12,\n",
       " 0.9999998605986642]"
      ]
     },
     "execution_count": 142,
     "metadata": {},
     "output_type": "execute_result"
    }
   ],
   "source": [
    "pos_prob = []\n",
    "for inner in NBprob_each:\n",
    "    pos_prob.append(inner[1])\n",
    "pos_prob[0:10]\n"
   ]
  },
  {
   "cell_type": "code",
   "execution_count": 143,
   "metadata": {},
   "outputs": [
    {
     "data": {
      "text/html": [
       "<div>\n",
       "<style scoped>\n",
       "    .dataframe tbody tr th:only-of-type {\n",
       "        vertical-align: middle;\n",
       "    }\n",
       "\n",
       "    .dataframe tbody tr th {\n",
       "        vertical-align: top;\n",
       "    }\n",
       "\n",
       "    .dataframe thead th {\n",
       "        text-align: right;\n",
       "    }\n",
       "</style>\n",
       "<table border=\"1\" class=\"dataframe\">\n",
       "  <thead>\n",
       "    <tr style=\"text-align: right;\">\n",
       "      <th></th>\n",
       "      <th>Temperature</th>\n",
       "      <th>Light</th>\n",
       "      <th>CO2</th>\n",
       "      <th>HumidityRatio</th>\n",
       "      <th>y_test Occupancy</th>\n",
       "      <th>RForest</th>\n",
       "      <th>NBGaus</th>\n",
       "    </tr>\n",
       "  </thead>\n",
       "  <tbody>\n",
       "    <tr>\n",
       "      <th>0</th>\n",
       "      <td>19.890000</td>\n",
       "      <td>0.0</td>\n",
       "      <td>440.50</td>\n",
       "      <td>0.003771</td>\n",
       "      <td>0</td>\n",
       "      <td>0</td>\n",
       "      <td>0</td>\n",
       "    </tr>\n",
       "    <tr>\n",
       "      <th>1</th>\n",
       "      <td>19.426667</td>\n",
       "      <td>0.0</td>\n",
       "      <td>460.00</td>\n",
       "      <td>0.003748</td>\n",
       "      <td>0</td>\n",
       "      <td>0</td>\n",
       "      <td>0</td>\n",
       "    </tr>\n",
       "    <tr>\n",
       "      <th>2</th>\n",
       "      <td>19.890000</td>\n",
       "      <td>0.0</td>\n",
       "      <td>442.50</td>\n",
       "      <td>0.002721</td>\n",
       "      <td>0</td>\n",
       "      <td>0</td>\n",
       "      <td>0</td>\n",
       "    </tr>\n",
       "    <tr>\n",
       "      <th>3</th>\n",
       "      <td>21.500000</td>\n",
       "      <td>507.5</td>\n",
       "      <td>655.50</td>\n",
       "      <td>0.003081</td>\n",
       "      <td>1</td>\n",
       "      <td>1</td>\n",
       "      <td>1</td>\n",
       "    </tr>\n",
       "    <tr>\n",
       "      <th>4</th>\n",
       "      <td>19.500000</td>\n",
       "      <td>0.0</td>\n",
       "      <td>467.00</td>\n",
       "      <td>0.003695</td>\n",
       "      <td>0</td>\n",
       "      <td>0</td>\n",
       "      <td>0</td>\n",
       "    </tr>\n",
       "    <tr>\n",
       "      <th>...</th>\n",
       "      <td>...</td>\n",
       "      <td>...</td>\n",
       "      <td>...</td>\n",
       "      <td>...</td>\n",
       "      <td>...</td>\n",
       "      <td>...</td>\n",
       "      <td>...</td>\n",
       "    </tr>\n",
       "    <tr>\n",
       "      <th>2157</th>\n",
       "      <td>21.500000</td>\n",
       "      <td>0.0</td>\n",
       "      <td>740.00</td>\n",
       "      <td>0.003277</td>\n",
       "      <td>0</td>\n",
       "      <td>0</td>\n",
       "      <td>0</td>\n",
       "    </tr>\n",
       "    <tr>\n",
       "      <th>2158</th>\n",
       "      <td>19.100000</td>\n",
       "      <td>0.0</td>\n",
       "      <td>433.00</td>\n",
       "      <td>0.004298</td>\n",
       "      <td>0</td>\n",
       "      <td>0</td>\n",
       "      <td>0</td>\n",
       "    </tr>\n",
       "    <tr>\n",
       "      <th>2159</th>\n",
       "      <td>20.315000</td>\n",
       "      <td>0.0</td>\n",
       "      <td>487.00</td>\n",
       "      <td>0.004869</td>\n",
       "      <td>0</td>\n",
       "      <td>0</td>\n",
       "      <td>0</td>\n",
       "    </tr>\n",
       "    <tr>\n",
       "      <th>2160</th>\n",
       "      <td>20.700000</td>\n",
       "      <td>0.0</td>\n",
       "      <td>493.25</td>\n",
       "      <td>0.003770</td>\n",
       "      <td>0</td>\n",
       "      <td>0</td>\n",
       "      <td>0</td>\n",
       "    </tr>\n",
       "    <tr>\n",
       "      <th>2161</th>\n",
       "      <td>20.700000</td>\n",
       "      <td>0.0</td>\n",
       "      <td>509.75</td>\n",
       "      <td>0.003778</td>\n",
       "      <td>0</td>\n",
       "      <td>0</td>\n",
       "      <td>0</td>\n",
       "    </tr>\n",
       "  </tbody>\n",
       "</table>\n",
       "<p>2162 rows × 7 columns</p>\n",
       "</div>"
      ],
      "text/plain": [
       "      Temperature  Light     CO2  HumidityRatio  y_test Occupancy  RForest  \\\n",
       "0       19.890000    0.0  440.50       0.003771                 0        0   \n",
       "1       19.426667    0.0  460.00       0.003748                 0        0   \n",
       "2       19.890000    0.0  442.50       0.002721                 0        0   \n",
       "3       21.500000  507.5  655.50       0.003081                 1        1   \n",
       "4       19.500000    0.0  467.00       0.003695                 0        0   \n",
       "...           ...    ...     ...            ...               ...      ...   \n",
       "2157    21.500000    0.0  740.00       0.003277                 0        0   \n",
       "2158    19.100000    0.0  433.00       0.004298                 0        0   \n",
       "2159    20.315000    0.0  487.00       0.004869                 0        0   \n",
       "2160    20.700000    0.0  493.25       0.003770                 0        0   \n",
       "2161    20.700000    0.0  509.75       0.003778                 0        0   \n",
       "\n",
       "      NBGaus  \n",
       "0          0  \n",
       "1          0  \n",
       "2          0  \n",
       "3          1  \n",
       "4          0  \n",
       "...      ...  \n",
       "2157       0  \n",
       "2158       0  \n",
       "2159       0  \n",
       "2160       0  \n",
       "2161       0  \n",
       "\n",
       "[2162 rows x 7 columns]"
      ]
     },
     "execution_count": 143,
     "metadata": {},
     "output_type": "execute_result"
    }
   ],
   "source": [
    "# Insert result, check the prediction correctness\n",
    "X_testdf.insert(len(X_testdf.columns), 'NBGaus', NB_pred_df['Occupancy'])\n",
    "X_testdf"
   ]
  },
  {
   "cell_type": "code",
   "execution_count": null,
   "metadata": {},
   "outputs": [],
   "source": []
  },
  {
   "cell_type": "markdown",
   "metadata": {},
   "source": [
    "# **KNN Classification**"
   ]
  },
  {
   "cell_type": "code",
   "execution_count": 144,
   "metadata": {},
   "outputs": [],
   "source": [
    "from sklearn import metrics\n",
    "from sklearn.neighbors import KNeighborsClassifier \n",
    "\n",
    "# try K=1 through K=25 and record testing accuracy\n",
    "k_range = range(1, 26)\n",
    "\n",
    "# We can create Python dictionary using [] or dict()\n",
    "scores = []\n",
    "\n",
    "# We use a loop through the range 1 to 26\n",
    "# We append the scores in the dictionary\n",
    "for k in k_range:\n",
    "    knn = KNeighborsClassifier(n_neighbors=k)\n",
    "    knn.fit(X_train, y_train)\n",
    "    y_pred = knn.predict(X_test)\n",
    "    scores.append(metrics.accuracy_score(y_test, y_pred))"
   ]
  },
  {
   "cell_type": "code",
   "execution_count": 145,
   "metadata": {},
   "outputs": [
    {
     "data": {
      "text/plain": [
       "Text(0, 0.5, 'Testing Accuracy')"
      ]
     },
     "execution_count": 145,
     "metadata": {},
     "output_type": "execute_result"
    },
    {
     "data": {
      "image/png": "[encoded data removed]",
      "text/plain": [
       "<Figure size 432x288 with 1 Axes>"
      ]
     },
     "metadata": {
      "needs_background": "light"
     },
     "output_type": "display_data"
    }
   ],
   "source": [
    "# import Matplotlib (scientific plotting library)\n",
    "import matplotlib.pyplot as plt\n",
    "\n",
    "# allow plots to appear within the notebook\n",
    "%matplotlib inline\n",
    "\n",
    "# plot the relationship between K and testing accuracy\n",
    "# plt.plot(x_axis, y_axis)\n",
    "plt.plot(k_range, scores)\n",
    "plt.xlabel('Value of K for KNN')\n",
    "plt.ylabel('Testing Accuracy')"
   ]
  },
  {
   "cell_type": "code",
   "execution_count": 146,
   "metadata": {},
   "outputs": [
    {
     "data": {
      "text/plain": [
       "KNeighborsClassifier(n_neighbors=6)"
      ]
     },
     "execution_count": 146,
     "metadata": {},
     "output_type": "execute_result"
    }
   ],
   "source": [
    "#Selection of n_neighbours as we do not want to underfit / overfit\n",
    "knn = KNeighborsClassifier(n_neighbors=6)\n",
    "knn.fit(X_train, y_train)"
   ]
  },
  {
   "cell_type": "code",
   "execution_count": 147,
   "metadata": {},
   "outputs": [
    {
     "name": "stdout",
     "output_type": "stream",
     "text": [
      "[0 0 0 ... 0 0 0]\n"
     ]
    }
   ],
   "source": [
    "# To predict occupancy using test set's features\n",
    "KNN_pred= knn.predict(X_test)\n",
    "print(KNN_pred)"
   ]
  },
  {
   "cell_type": "code",
   "execution_count": 148,
   "metadata": {},
   "outputs": [
    {
     "data": {
      "text/html": [
       "<div>\n",
       "<style scoped>\n",
       "    .dataframe tbody tr th:only-of-type {\n",
       "        vertical-align: middle;\n",
       "    }\n",
       "\n",
       "    .dataframe tbody tr th {\n",
       "        vertical-align: top;\n",
       "    }\n",
       "\n",
       "    .dataframe thead th {\n",
       "        text-align: right;\n",
       "    }\n",
       "</style>\n",
       "<table border=\"1\" class=\"dataframe\">\n",
       "  <thead>\n",
       "    <tr style=\"text-align: right;\">\n",
       "      <th></th>\n",
       "      <th>Occupancy</th>\n",
       "    </tr>\n",
       "  </thead>\n",
       "  <tbody>\n",
       "    <tr>\n",
       "      <th>0</th>\n",
       "      <td>0</td>\n",
       "    </tr>\n",
       "    <tr>\n",
       "      <th>1</th>\n",
       "      <td>0</td>\n",
       "    </tr>\n",
       "    <tr>\n",
       "      <th>2</th>\n",
       "      <td>0</td>\n",
       "    </tr>\n",
       "    <tr>\n",
       "      <th>3</th>\n",
       "      <td>1</td>\n",
       "    </tr>\n",
       "    <tr>\n",
       "      <th>4</th>\n",
       "      <td>0</td>\n",
       "    </tr>\n",
       "    <tr>\n",
       "      <th>5</th>\n",
       "      <td>0</td>\n",
       "    </tr>\n",
       "    <tr>\n",
       "      <th>6</th>\n",
       "      <td>0</td>\n",
       "    </tr>\n",
       "    <tr>\n",
       "      <th>7</th>\n",
       "      <td>0</td>\n",
       "    </tr>\n",
       "    <tr>\n",
       "      <th>8</th>\n",
       "      <td>0</td>\n",
       "    </tr>\n",
       "    <tr>\n",
       "      <th>9</th>\n",
       "      <td>1</td>\n",
       "    </tr>\n",
       "  </tbody>\n",
       "</table>\n",
       "</div>"
      ],
      "text/plain": [
       "   Occupancy\n",
       "0          0\n",
       "1          0\n",
       "2          0\n",
       "3          1\n",
       "4          0\n",
       "5          0\n",
       "6          0\n",
       "7          0\n",
       "8          0\n",
       "9          1"
      ]
     },
     "execution_count": 148,
     "metadata": {},
     "output_type": "execute_result"
    }
   ],
   "source": [
    "# Transfer the array of predicted popularity of test data into dataframe\n",
    "KNpredct_df = pd.DataFrame(data=KNN_pred, columns=['Occupancy'])\n",
    "KNpredct_df.head(10)"
   ]
  },
  {
   "cell_type": "code",
   "execution_count": 149,
   "metadata": {},
   "outputs": [
    {
     "data": {
      "text/plain": [
       "array([[1., 0.],\n",
       "       [1., 0.],\n",
       "       [1., 0.],\n",
       "       ...,\n",
       "       [1., 0.],\n",
       "       [1., 0.],\n",
       "       [1., 0.]])"
      ]
     },
     "execution_count": 149,
     "metadata": {},
     "output_type": "execute_result"
    }
   ],
   "source": [
    "KNprob_each = knn.predict_proba(X_test)\n",
    "KNprob_each"
   ]
  },
  {
   "cell_type": "code",
   "execution_count": 150,
   "metadata": {},
   "outputs": [
    {
     "data": {
      "text/plain": [
       "[0.0, 0.0, 0.0, 1.0, 0.0, 0.0, 0.0, 0.0, 0.0, 1.0]"
      ]
     },
     "execution_count": 150,
     "metadata": {},
     "output_type": "execute_result"
    }
   ],
   "source": [
    "pos_prob = []\n",
    "for inner in KNprob_each:\n",
    "    pos_prob.append(inner[1])\n",
    "pos_prob[0:10]"
   ]
  },
  {
   "cell_type": "code",
   "execution_count": 151,
   "metadata": {},
   "outputs": [
    {
     "data": {
      "text/html": [
       "<div>\n",
       "<style scoped>\n",
       "    .dataframe tbody tr th:only-of-type {\n",
       "        vertical-align: middle;\n",
       "    }\n",
       "\n",
       "    .dataframe tbody tr th {\n",
       "        vertical-align: top;\n",
       "    }\n",
       "\n",
       "    .dataframe thead th {\n",
       "        text-align: right;\n",
       "    }\n",
       "</style>\n",
       "<table border=\"1\" class=\"dataframe\">\n",
       "  <thead>\n",
       "    <tr style=\"text-align: right;\">\n",
       "      <th></th>\n",
       "      <th>Temperature</th>\n",
       "      <th>Light</th>\n",
       "      <th>CO2</th>\n",
       "      <th>HumidityRatio</th>\n",
       "      <th>y_test Occupancy</th>\n",
       "      <th>RForest</th>\n",
       "      <th>NBGaus</th>\n",
       "      <th>KNeigh</th>\n",
       "    </tr>\n",
       "  </thead>\n",
       "  <tbody>\n",
       "    <tr>\n",
       "      <th>0</th>\n",
       "      <td>19.890000</td>\n",
       "      <td>0.0</td>\n",
       "      <td>440.50</td>\n",
       "      <td>0.003771</td>\n",
       "      <td>0</td>\n",
       "      <td>0</td>\n",
       "      <td>0</td>\n",
       "      <td>0</td>\n",
       "    </tr>\n",
       "    <tr>\n",
       "      <th>1</th>\n",
       "      <td>19.426667</td>\n",
       "      <td>0.0</td>\n",
       "      <td>460.00</td>\n",
       "      <td>0.003748</td>\n",
       "      <td>0</td>\n",
       "      <td>0</td>\n",
       "      <td>0</td>\n",
       "      <td>0</td>\n",
       "    </tr>\n",
       "    <tr>\n",
       "      <th>2</th>\n",
       "      <td>19.890000</td>\n",
       "      <td>0.0</td>\n",
       "      <td>442.50</td>\n",
       "      <td>0.002721</td>\n",
       "      <td>0</td>\n",
       "      <td>0</td>\n",
       "      <td>0</td>\n",
       "      <td>0</td>\n",
       "    </tr>\n",
       "    <tr>\n",
       "      <th>3</th>\n",
       "      <td>21.500000</td>\n",
       "      <td>507.5</td>\n",
       "      <td>655.50</td>\n",
       "      <td>0.003081</td>\n",
       "      <td>1</td>\n",
       "      <td>1</td>\n",
       "      <td>1</td>\n",
       "      <td>1</td>\n",
       "    </tr>\n",
       "    <tr>\n",
       "      <th>4</th>\n",
       "      <td>19.500000</td>\n",
       "      <td>0.0</td>\n",
       "      <td>467.00</td>\n",
       "      <td>0.003695</td>\n",
       "      <td>0</td>\n",
       "      <td>0</td>\n",
       "      <td>0</td>\n",
       "      <td>0</td>\n",
       "    </tr>\n",
       "    <tr>\n",
       "      <th>...</th>\n",
       "      <td>...</td>\n",
       "      <td>...</td>\n",
       "      <td>...</td>\n",
       "      <td>...</td>\n",
       "      <td>...</td>\n",
       "      <td>...</td>\n",
       "      <td>...</td>\n",
       "      <td>...</td>\n",
       "    </tr>\n",
       "    <tr>\n",
       "      <th>2157</th>\n",
       "      <td>21.500000</td>\n",
       "      <td>0.0</td>\n",
       "      <td>740.00</td>\n",
       "      <td>0.003277</td>\n",
       "      <td>0</td>\n",
       "      <td>0</td>\n",
       "      <td>0</td>\n",
       "      <td>0</td>\n",
       "    </tr>\n",
       "    <tr>\n",
       "      <th>2158</th>\n",
       "      <td>19.100000</td>\n",
       "      <td>0.0</td>\n",
       "      <td>433.00</td>\n",
       "      <td>0.004298</td>\n",
       "      <td>0</td>\n",
       "      <td>0</td>\n",
       "      <td>0</td>\n",
       "      <td>0</td>\n",
       "    </tr>\n",
       "    <tr>\n",
       "      <th>2159</th>\n",
       "      <td>20.315000</td>\n",
       "      <td>0.0</td>\n",
       "      <td>487.00</td>\n",
       "      <td>0.004869</td>\n",
       "      <td>0</td>\n",
       "      <td>0</td>\n",
       "      <td>0</td>\n",
       "      <td>0</td>\n",
       "    </tr>\n",
       "    <tr>\n",
       "      <th>2160</th>\n",
       "      <td>20.700000</td>\n",
       "      <td>0.0</td>\n",
       "      <td>493.25</td>\n",
       "      <td>0.003770</td>\n",
       "      <td>0</td>\n",
       "      <td>0</td>\n",
       "      <td>0</td>\n",
       "      <td>0</td>\n",
       "    </tr>\n",
       "    <tr>\n",
       "      <th>2161</th>\n",
       "      <td>20.700000</td>\n",
       "      <td>0.0</td>\n",
       "      <td>509.75</td>\n",
       "      <td>0.003778</td>\n",
       "      <td>0</td>\n",
       "      <td>0</td>\n",
       "      <td>0</td>\n",
       "      <td>0</td>\n",
       "    </tr>\n",
       "  </tbody>\n",
       "</table>\n",
       "<p>2162 rows × 8 columns</p>\n",
       "</div>"
      ],
      "text/plain": [
       "      Temperature  Light     CO2  HumidityRatio  y_test Occupancy  RForest  \\\n",
       "0       19.890000    0.0  440.50       0.003771                 0        0   \n",
       "1       19.426667    0.0  460.00       0.003748                 0        0   \n",
       "2       19.890000    0.0  442.50       0.002721                 0        0   \n",
       "3       21.500000  507.5  655.50       0.003081                 1        1   \n",
       "4       19.500000    0.0  467.00       0.003695                 0        0   \n",
       "...           ...    ...     ...            ...               ...      ...   \n",
       "2157    21.500000    0.0  740.00       0.003277                 0        0   \n",
       "2158    19.100000    0.0  433.00       0.004298                 0        0   \n",
       "2159    20.315000    0.0  487.00       0.004869                 0        0   \n",
       "2160    20.700000    0.0  493.25       0.003770                 0        0   \n",
       "2161    20.700000    0.0  509.75       0.003778                 0        0   \n",
       "\n",
       "      NBGaus  KNeigh  \n",
       "0          0       0  \n",
       "1          0       0  \n",
       "2          0       0  \n",
       "3          1       1  \n",
       "4          0       0  \n",
       "...      ...     ...  \n",
       "2157       0       0  \n",
       "2158       0       0  \n",
       "2159       0       0  \n",
       "2160       0       0  \n",
       "2161       0       0  \n",
       "\n",
       "[2162 rows x 8 columns]"
      ]
     },
     "execution_count": 151,
     "metadata": {},
     "output_type": "execute_result"
    }
   ],
   "source": [
    "# Insert result, check the prediction correctness\n",
    "X_testdf.insert(len(X_testdf.columns), 'KNeigh', KNpredct_df['Occupancy'])\n",
    "X_testdf\n"
   ]
  },
  {
   "cell_type": "code",
   "execution_count": null,
   "metadata": {},
   "outputs": [],
   "source": []
  },
  {
   "cell_type": "code",
   "execution_count": null,
   "metadata": {},
   "outputs": [],
   "source": []
  },
  {
   "cell_type": "markdown",
   "metadata": {},
   "source": [
    "# **Decision Tree**"
   ]
  },
  {
   "cell_type": "code",
   "execution_count": 152,
   "metadata": {},
   "outputs": [
    {
     "data": {
      "text/plain": [
       "DecisionTreeClassifier()"
      ]
     },
     "execution_count": 152,
     "metadata": {},
     "output_type": "execute_result"
    }
   ],
   "source": [
    "from sklearn import tree\n",
    "model = tree.DecisionTreeClassifier()\n",
    "model.fit(X_train,y_train)"
   ]
  },
  {
   "cell_type": "code",
   "execution_count": 153,
   "metadata": {},
   "outputs": [
    {
     "name": "stdout",
     "output_type": "stream",
     "text": [
      "[0 0 0 ... 0 0 0]\n"
     ]
    }
   ],
   "source": [
    "#To predict occupancy using the test's set features\n",
    "model_pred=model.predict(X_test)\n",
    "print(model_pred)"
   ]
  },
  {
   "cell_type": "code",
   "execution_count": 154,
   "metadata": {},
   "outputs": [
    {
     "data": {
      "text/html": [
       "<div>\n",
       "<style scoped>\n",
       "    .dataframe tbody tr th:only-of-type {\n",
       "        vertical-align: middle;\n",
       "    }\n",
       "\n",
       "    .dataframe tbody tr th {\n",
       "        vertical-align: top;\n",
       "    }\n",
       "\n",
       "    .dataframe thead th {\n",
       "        text-align: right;\n",
       "    }\n",
       "</style>\n",
       "<table border=\"1\" class=\"dataframe\">\n",
       "  <thead>\n",
       "    <tr style=\"text-align: right;\">\n",
       "      <th></th>\n",
       "      <th>Occupancy</th>\n",
       "    </tr>\n",
       "  </thead>\n",
       "  <tbody>\n",
       "    <tr>\n",
       "      <th>0</th>\n",
       "      <td>0</td>\n",
       "    </tr>\n",
       "    <tr>\n",
       "      <th>1</th>\n",
       "      <td>0</td>\n",
       "    </tr>\n",
       "    <tr>\n",
       "      <th>2</th>\n",
       "      <td>0</td>\n",
       "    </tr>\n",
       "    <tr>\n",
       "      <th>3</th>\n",
       "      <td>1</td>\n",
       "    </tr>\n",
       "    <tr>\n",
       "      <th>4</th>\n",
       "      <td>0</td>\n",
       "    </tr>\n",
       "    <tr>\n",
       "      <th>5</th>\n",
       "      <td>0</td>\n",
       "    </tr>\n",
       "    <tr>\n",
       "      <th>6</th>\n",
       "      <td>0</td>\n",
       "    </tr>\n",
       "    <tr>\n",
       "      <th>7</th>\n",
       "      <td>0</td>\n",
       "    </tr>\n",
       "    <tr>\n",
       "      <th>8</th>\n",
       "      <td>0</td>\n",
       "    </tr>\n",
       "    <tr>\n",
       "      <th>9</th>\n",
       "      <td>1</td>\n",
       "    </tr>\n",
       "  </tbody>\n",
       "</table>\n",
       "</div>"
      ],
      "text/plain": [
       "   Occupancy\n",
       "0          0\n",
       "1          0\n",
       "2          0\n",
       "3          1\n",
       "4          0\n",
       "5          0\n",
       "6          0\n",
       "7          0\n",
       "8          0\n",
       "9          1"
      ]
     },
     "execution_count": 154,
     "metadata": {},
     "output_type": "execute_result"
    }
   ],
   "source": [
    "# Transfer the array of predicted popularity of test data into dataframe\n",
    "model_pred_df = pd.DataFrame(data=model_pred, columns=['Occupancy'])\n",
    "model_pred_df.head(10)"
   ]
  },
  {
   "cell_type": "code",
   "execution_count": 155,
   "metadata": {},
   "outputs": [
    {
     "data": {
      "text/plain": [
       "array([[1., 0.],\n",
       "       [1., 0.],\n",
       "       [1., 0.],\n",
       "       ...,\n",
       "       [1., 0.],\n",
       "       [1., 0.],\n",
       "       [1., 0.]])"
      ]
     },
     "execution_count": 155,
     "metadata": {},
     "output_type": "execute_result"
    }
   ],
   "source": [
    "DTprob_each = model.predict_proba(X_test)\n",
    "DTprob_each"
   ]
  },
  {
   "cell_type": "code",
   "execution_count": 156,
   "metadata": {},
   "outputs": [
    {
     "data": {
      "text/plain": [
       "[0.0, 0.0, 0.0, 1.0, 0.0, 0.0, 0.0, 0.0, 0.0, 1.0]"
      ]
     },
     "execution_count": 156,
     "metadata": {},
     "output_type": "execute_result"
    }
   ],
   "source": [
    "pos_prob = []\n",
    "for inner in DTprob_each:\n",
    "    pos_prob.append(inner[1])\n",
    "pos_prob[0:10]\n"
   ]
  },
  {
   "cell_type": "code",
   "execution_count": 157,
   "metadata": {},
   "outputs": [
    {
     "data": {
      "text/html": [
       "<div>\n",
       "<style scoped>\n",
       "    .dataframe tbody tr th:only-of-type {\n",
       "        vertical-align: middle;\n",
       "    }\n",
       "\n",
       "    .dataframe tbody tr th {\n",
       "        vertical-align: top;\n",
       "    }\n",
       "\n",
       "    .dataframe thead th {\n",
       "        text-align: right;\n",
       "    }\n",
       "</style>\n",
       "<table border=\"1\" class=\"dataframe\">\n",
       "  <thead>\n",
       "    <tr style=\"text-align: right;\">\n",
       "      <th></th>\n",
       "      <th>Temperature</th>\n",
       "      <th>Light</th>\n",
       "      <th>CO2</th>\n",
       "      <th>HumidityRatio</th>\n",
       "      <th>y_test Occupancy</th>\n",
       "      <th>RForest</th>\n",
       "      <th>NBGaus</th>\n",
       "      <th>KNeigh</th>\n",
       "      <th>DecisionT</th>\n",
       "    </tr>\n",
       "  </thead>\n",
       "  <tbody>\n",
       "    <tr>\n",
       "      <th>0</th>\n",
       "      <td>19.890000</td>\n",
       "      <td>0.0</td>\n",
       "      <td>440.50</td>\n",
       "      <td>0.003771</td>\n",
       "      <td>0</td>\n",
       "      <td>0</td>\n",
       "      <td>0</td>\n",
       "      <td>0</td>\n",
       "      <td>0</td>\n",
       "    </tr>\n",
       "    <tr>\n",
       "      <th>1</th>\n",
       "      <td>19.426667</td>\n",
       "      <td>0.0</td>\n",
       "      <td>460.00</td>\n",
       "      <td>0.003748</td>\n",
       "      <td>0</td>\n",
       "      <td>0</td>\n",
       "      <td>0</td>\n",
       "      <td>0</td>\n",
       "      <td>0</td>\n",
       "    </tr>\n",
       "    <tr>\n",
       "      <th>2</th>\n",
       "      <td>19.890000</td>\n",
       "      <td>0.0</td>\n",
       "      <td>442.50</td>\n",
       "      <td>0.002721</td>\n",
       "      <td>0</td>\n",
       "      <td>0</td>\n",
       "      <td>0</td>\n",
       "      <td>0</td>\n",
       "      <td>0</td>\n",
       "    </tr>\n",
       "    <tr>\n",
       "      <th>3</th>\n",
       "      <td>21.500000</td>\n",
       "      <td>507.5</td>\n",
       "      <td>655.50</td>\n",
       "      <td>0.003081</td>\n",
       "      <td>1</td>\n",
       "      <td>1</td>\n",
       "      <td>1</td>\n",
       "      <td>1</td>\n",
       "      <td>1</td>\n",
       "    </tr>\n",
       "    <tr>\n",
       "      <th>4</th>\n",
       "      <td>19.500000</td>\n",
       "      <td>0.0</td>\n",
       "      <td>467.00</td>\n",
       "      <td>0.003695</td>\n",
       "      <td>0</td>\n",
       "      <td>0</td>\n",
       "      <td>0</td>\n",
       "      <td>0</td>\n",
       "      <td>0</td>\n",
       "    </tr>\n",
       "    <tr>\n",
       "      <th>...</th>\n",
       "      <td>...</td>\n",
       "      <td>...</td>\n",
       "      <td>...</td>\n",
       "      <td>...</td>\n",
       "      <td>...</td>\n",
       "      <td>...</td>\n",
       "      <td>...</td>\n",
       "      <td>...</td>\n",
       "      <td>...</td>\n",
       "    </tr>\n",
       "    <tr>\n",
       "      <th>2157</th>\n",
       "      <td>21.500000</td>\n",
       "      <td>0.0</td>\n",
       "      <td>740.00</td>\n",
       "      <td>0.003277</td>\n",
       "      <td>0</td>\n",
       "      <td>0</td>\n",
       "      <td>0</td>\n",
       "      <td>0</td>\n",
       "      <td>0</td>\n",
       "    </tr>\n",
       "    <tr>\n",
       "      <th>2158</th>\n",
       "      <td>19.100000</td>\n",
       "      <td>0.0</td>\n",
       "      <td>433.00</td>\n",
       "      <td>0.004298</td>\n",
       "      <td>0</td>\n",
       "      <td>0</td>\n",
       "      <td>0</td>\n",
       "      <td>0</td>\n",
       "      <td>0</td>\n",
       "    </tr>\n",
       "    <tr>\n",
       "      <th>2159</th>\n",
       "      <td>20.315000</td>\n",
       "      <td>0.0</td>\n",
       "      <td>487.00</td>\n",
       "      <td>0.004869</td>\n",
       "      <td>0</td>\n",
       "      <td>0</td>\n",
       "      <td>0</td>\n",
       "      <td>0</td>\n",
       "      <td>0</td>\n",
       "    </tr>\n",
       "    <tr>\n",
       "      <th>2160</th>\n",
       "      <td>20.700000</td>\n",
       "      <td>0.0</td>\n",
       "      <td>493.25</td>\n",
       "      <td>0.003770</td>\n",
       "      <td>0</td>\n",
       "      <td>0</td>\n",
       "      <td>0</td>\n",
       "      <td>0</td>\n",
       "      <td>0</td>\n",
       "    </tr>\n",
       "    <tr>\n",
       "      <th>2161</th>\n",
       "      <td>20.700000</td>\n",
       "      <td>0.0</td>\n",
       "      <td>509.75</td>\n",
       "      <td>0.003778</td>\n",
       "      <td>0</td>\n",
       "      <td>0</td>\n",
       "      <td>0</td>\n",
       "      <td>0</td>\n",
       "      <td>0</td>\n",
       "    </tr>\n",
       "  </tbody>\n",
       "</table>\n",
       "<p>2162 rows × 9 columns</p>\n",
       "</div>"
      ],
      "text/plain": [
       "      Temperature  Light     CO2  HumidityRatio  y_test Occupancy  RForest  \\\n",
       "0       19.890000    0.0  440.50       0.003771                 0        0   \n",
       "1       19.426667    0.0  460.00       0.003748                 0        0   \n",
       "2       19.890000    0.0  442.50       0.002721                 0        0   \n",
       "3       21.500000  507.5  655.50       0.003081                 1        1   \n",
       "4       19.500000    0.0  467.00       0.003695                 0        0   \n",
       "...           ...    ...     ...            ...               ...      ...   \n",
       "2157    21.500000    0.0  740.00       0.003277                 0        0   \n",
       "2158    19.100000    0.0  433.00       0.004298                 0        0   \n",
       "2159    20.315000    0.0  487.00       0.004869                 0        0   \n",
       "2160    20.700000    0.0  493.25       0.003770                 0        0   \n",
       "2161    20.700000    0.0  509.75       0.003778                 0        0   \n",
       "\n",
       "      NBGaus  KNeigh  DecisionT  \n",
       "0          0       0          0  \n",
       "1          0       0          0  \n",
       "2          0       0          0  \n",
       "3          1       1          1  \n",
       "4          0       0          0  \n",
       "...      ...     ...        ...  \n",
       "2157       0       0          0  \n",
       "2158       0       0          0  \n",
       "2159       0       0          0  \n",
       "2160       0       0          0  \n",
       "2161       0       0          0  \n",
       "\n",
       "[2162 rows x 9 columns]"
      ]
     },
     "execution_count": 157,
     "metadata": {},
     "output_type": "execute_result"
    }
   ],
   "source": [
    "# Insert result, check the prediction correctness\n",
    "X_testdf.insert(len(X_testdf.columns), 'DecisionT', clf_pred_df['Occupancy'])\n",
    "X_testdf\n"
   ]
  },
  {
   "cell_type": "code",
   "execution_count": null,
   "metadata": {},
   "outputs": [],
   "source": []
  },
  {
   "cell_type": "markdown",
   "metadata": {},
   "source": [
    "# **Evaluation for Classifiers**"
   ]
  },
  {
   "cell_type": "code",
   "execution_count": 158,
   "metadata": {},
   "outputs": [],
   "source": [
    "#Import relevant metrics\n",
    "from sklearn.metrics import accuracy_score\n",
    "from sklearn.metrics import f1_score\n",
    "from sklearn.metrics import confusion_matrix"
   ]
  },
  {
   "cell_type": "code",
   "execution_count": 159,
   "metadata": {},
   "outputs": [],
   "source": [
    "#RANDOM FOREST\n",
    "acRF=accuracy_score(y_test,clf_pred)\n",
    "fscoreRF=f1_score(y_test,clf_pred)\n",
    "conmatrixRF = confusion_matrix(y_test,clf_pred)\n",
    "\n",
    "#NAIVE BAYES\n",
    "acNB=accuracy_score(y_test,NB_pred)\n",
    "fscoreNB = f1_score(y_test,NB_pred)\n",
    "conmatrixNB = confusion_matrix(y_test,NB_pred)\n",
    "\n",
    "#K NEIGHBOURS\n",
    "acKNN=accuracy_score(y_test,KNN_pred)\n",
    "fscoreKNN=f1_score(y_test,KNN_pred)\n",
    "conmatrixKNN = confusion_matrix(y_test,KNN_pred)\n",
    "\n",
    "#DECISION TREE\n",
    "acDTree = accuracy_score(y_test,model_pred)\n",
    "fscoreDTree = f1_score(y_test,model_pred)\n",
    "conmatrixDTree = confusion_matrix(y_test,model_pred)\n"
   ]
  },
  {
   "cell_type": "code",
   "execution_count": 160,
   "metadata": {},
   "outputs": [
    {
     "data": {
      "text/html": [
       "<div>\n",
       "<style scoped>\n",
       "    .dataframe tbody tr th:only-of-type {\n",
       "        vertical-align: middle;\n",
       "    }\n",
       "\n",
       "    .dataframe tbody tr th {\n",
       "        vertical-align: top;\n",
       "    }\n",
       "\n",
       "    .dataframe thead th {\n",
       "        text-align: right;\n",
       "    }\n",
       "</style>\n",
       "<table border=\"1\" class=\"dataframe\">\n",
       "  <thead>\n",
       "    <tr style=\"text-align: right;\">\n",
       "      <th></th>\n",
       "      <th>KNeigh</th>\n",
       "      <th>Naive Bayes</th>\n",
       "      <th>Random Forest</th>\n",
       "      <th>Decision Tree</th>\n",
       "    </tr>\n",
       "  </thead>\n",
       "  <tbody>\n",
       "    <tr>\n",
       "      <th>Accuracy</th>\n",
       "      <td>0.986586</td>\n",
       "      <td>0.966235</td>\n",
       "      <td>0.989362</td>\n",
       "      <td>0.987049</td>\n",
       "    </tr>\n",
       "    <tr>\n",
       "      <th>Fscore</th>\n",
       "      <td>0.971981</td>\n",
       "      <td>0.932966</td>\n",
       "      <td>0.977561</td>\n",
       "      <td>0.972656</td>\n",
       "    </tr>\n",
       "    <tr>\n",
       "      <th>Confusion Matrix</th>\n",
       "      <td>[[1630, 20], [9, 503]]</td>\n",
       "      <td>[[1581, 69], [4, 508]]</td>\n",
       "      <td>[[1638, 12], [11, 501]]</td>\n",
       "      <td>[[1636, 14], [14, 498]]</td>\n",
       "    </tr>\n",
       "  </tbody>\n",
       "</table>\n",
       "</div>"
      ],
      "text/plain": [
       "                                  KNeigh             Naive Bayes  \\\n",
       "Accuracy                        0.986586                0.966235   \n",
       "Fscore                          0.971981                0.932966   \n",
       "Confusion Matrix  [[1630, 20], [9, 503]]  [[1581, 69], [4, 508]]   \n",
       "\n",
       "                            Random Forest            Decision Tree  \n",
       "Accuracy                         0.989362                 0.987049  \n",
       "Fscore                           0.977561                 0.972656  \n",
       "Confusion Matrix  [[1638, 12], [11, 501]]  [[1636, 14], [14, 498]]  "
      ]
     },
     "execution_count": 160,
     "metadata": {},
     "output_type": "execute_result"
    }
   ],
   "source": [
    "df = pd.DataFrame(\n",
    "    {\n",
    "        \"KNeigh\": [acKNN, fscoreKNN, conmatrixKNN],\n",
    "        \"Naive Bayes\": [acNB, fscoreNB, conmatrixNB],\n",
    "        \"Random Forest\": [acRF, fscoreRF, conmatrixRF],\n",
    "        \"Decision Tree\": [acDTree, fscoreDTree, conmatrixDTree]\n",
    "    },\n",
    "    columns=[\"KNeigh\", \"Naive Bayes\", \"Random Forest\", \"Decision Tree\"],\n",
    "    index = [\"Accuracy\", \"Fscore\", \"Confusion Matrix\"])\n",
    "df\n",
    "\n"
   ]
  },
  {
   "cell_type": "code",
   "execution_count": null,
   "metadata": {},
   "outputs": [],
   "source": []
  },
  {
   "cell_type": "code",
   "execution_count": null,
   "metadata": {},
   "outputs": [],
   "source": []
  },
  {
   "cell_type": "code",
   "execution_count": null,
   "metadata": {},
   "outputs": [],
   "source": []
  },
  {
   "cell_type": "code",
   "execution_count": null,
   "metadata": {},
   "outputs": [],
   "source": []
  },
  {
   "cell_type": "code",
   "execution_count": null,
   "metadata": {},
   "outputs": [],
   "source": []
  },
  {
   "cell_type": "code",
   "execution_count": null,
   "metadata": {},
   "outputs": [],
   "source": []
  },
  {
   "cell_type": "code",
   "execution_count": null,
   "metadata": {},
   "outputs": [],
   "source": []
  },
  {
   "cell_type": "code",
   "execution_count": null,
   "metadata": {},
   "outputs": [],
   "source": []
  },
  {
   "cell_type": "code",
   "execution_count": null,
   "metadata": {},
   "outputs": [],
   "source": []
  },
  {
   "cell_type": "code",
   "execution_count": null,
   "metadata": {},
   "outputs": [],
   "source": []
  },
  {
   "cell_type": "code",
   "execution_count": null,
   "metadata": {},
   "outputs": [],
   "source": []
  },
  {
   "cell_type": "code",
   "execution_count": null,
   "metadata": {},
   "outputs": [],
   "source": []
  },
  {
   "cell_type": "code",
   "execution_count": null,
   "metadata": {},
   "outputs": [],
   "source": []
  },
  {
   "cell_type": "code",
   "execution_count": null,
   "metadata": {},
   "outputs": [],
   "source": []
  },
  {
   "cell_type": "code",
   "execution_count": null,
   "metadata": {},
   "outputs": [],
   "source": []
  },
  {
   "cell_type": "code",
   "execution_count": null,
   "metadata": {},
   "outputs": [],
   "source": []
  },
  {
   "cell_type": "code",
   "execution_count": null,
   "metadata": {},
   "outputs": [],
   "source": []
  },
  {
   "cell_type": "code",
   "execution_count": null,
   "metadata": {},
   "outputs": [],
   "source": []
  }
 ],
 "metadata": {
  "interpreter": {
   "hash": "37605adaf785cda81a3ea285139b209a2cc0349f7b2953d3810a673b1713c223"
  },
  "kernelspec": {
   "display_name": "Python 3.7.11 64-bit ('myenv': conda)",
   "name": "python3"
  },
  "language_info": {
   "codemirror_mode": {
    "name": "ipython",
    "version": 3
   },
   "file_extension": ".py",
   "mimetype": "text/x-python",
   "name": "python",
   "nbconvert_exporter": "python",
   "pygments_lexer": "ipython3",
   "version": "3.7.11"
  },
  "orig_nbformat": 4
 },
 "nbformat": 4,
 "nbformat_minor": 2
}
