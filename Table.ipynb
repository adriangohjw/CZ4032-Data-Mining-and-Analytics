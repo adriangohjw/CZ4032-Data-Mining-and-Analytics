{
 "cells": [
  {
   "cell_type": "code",
   "execution_count": 1,
   "metadata": {},
   "outputs": [],
   "source": [
    "import pandas as pd"
   ]
  },
  {
   "cell_type": "code",
   "execution_count": 2,
   "metadata": {},
   "outputs": [
    {
     "data": {
      "text/html": [
       "<div>\n",
       "<style scoped>\n",
       "    .dataframe tbody tr th:only-of-type {\n",
       "        vertical-align: middle;\n",
       "    }\n",
       "\n",
       "    .dataframe tbody tr th {\n",
       "        vertical-align: top;\n",
       "    }\n",
       "\n",
       "    .dataframe thead th {\n",
       "        text-align: right;\n",
       "    }\n",
       "</style>\n",
       "<table border=\"1\" class=\"dataframe\">\n",
       "  <thead>\n",
       "    <tr style=\"text-align: right;\">\n",
       "      <th></th>\n",
       "      <th>KNeigh</th>\n",
       "      <th>Naive Bayes</th>\n",
       "      <th>Random Forest</th>\n",
       "      <th>Decision Tree</th>\n",
       "      <th>Apriori</th>\n",
       "    </tr>\n",
       "  </thead>\n",
       "  <tbody>\n",
       "    <tr>\n",
       "      <th>Adults</th>\n",
       "      <td>0.784892</td>\n",
       "      <td>0.823737</td>\n",
       "      <td>0.830186</td>\n",
       "      <td>0.789959</td>\n",
       "      <td>0.765190</td>\n",
       "    </tr>\n",
       "    <tr>\n",
       "      <th>BankMarketing</th>\n",
       "      <td>0.890608</td>\n",
       "      <td>0.879558</td>\n",
       "      <td>0.895028</td>\n",
       "      <td>0.866298</td>\n",
       "      <td>0.884760</td>\n",
       "    </tr>\n",
       "    <tr>\n",
       "      <th>BreastCancer</th>\n",
       "      <td>0.912281</td>\n",
       "      <td>0.938596</td>\n",
       "      <td>0.947368</td>\n",
       "      <td>0.938596</td>\n",
       "      <td>0.957840</td>\n",
       "    </tr>\n",
       "    <tr>\n",
       "      <th>ForestFires</th>\n",
       "      <td>0.816327</td>\n",
       "      <td>0.836735</td>\n",
       "      <td>0.918367</td>\n",
       "      <td>0.918367</td>\n",
       "      <td>0.739837</td>\n",
       "    </tr>\n",
       "    <tr>\n",
       "      <th>HeartFailure</th>\n",
       "      <td>0.650000</td>\n",
       "      <td>0.733333</td>\n",
       "      <td>0.800000</td>\n",
       "      <td>0.683333</td>\n",
       "      <td>0.839532</td>\n",
       "    </tr>\n",
       "    <tr>\n",
       "      <th>Occupancy</th>\n",
       "      <td>0.986586</td>\n",
       "      <td>0.966235</td>\n",
       "      <td>0.989362</td>\n",
       "      <td>0.987049</td>\n",
       "      <td>0.960600</td>\n",
       "    </tr>\n",
       "    <tr>\n",
       "      <th>Wine</th>\n",
       "      <td>0.646875</td>\n",
       "      <td>0.668750</td>\n",
       "      <td>0.765625</td>\n",
       "      <td>0.715625</td>\n",
       "      <td>0.753055</td>\n",
       "    </tr>\n",
       "  </tbody>\n",
       "</table>\n",
       "</div>"
      ],
      "text/plain": [
       "                 KNeigh  Naive Bayes  Random Forest  Decision Tree   Apriori\n",
       "Adults         0.784892     0.823737       0.830186       0.789959  0.765190\n",
       "BankMarketing  0.890608     0.879558       0.895028       0.866298  0.884760\n",
       "BreastCancer   0.912281     0.938596       0.947368       0.938596  0.957840\n",
       "ForestFires    0.816327     0.836735       0.918367       0.918367  0.739837\n",
       "HeartFailure   0.650000     0.733333       0.800000       0.683333  0.839532\n",
       "Occupancy      0.986586     0.966235       0.989362       0.987049  0.960600\n",
       "Wine           0.646875     0.668750       0.765625       0.715625  0.753055"
      ]
     },
     "execution_count": 2,
     "metadata": {},
     "output_type": "execute_result"
    }
   ],
   "source": [
    "df = pd.DataFrame(\n",
    "    {\n",
    "        \"KNeigh\": [0.784892, 0.890608, 0.912281, 0.816327, 0.65, 0.986586, 0.646875],\n",
    "        \"Naive Bayes\": [0.823737, 0.879558, 0.938596, 0.836735, 0.733333, 0.966235, 0.66875],\n",
    "        \"Random Forest\": [0.830186, 0.895028, 0.947368, 0.918367, 0.8, 0.989362, 0.765625],\n",
    "        \"Decision Tree\": [0.789959, 0.866298, 0.938596, 0.918367, 0.683333, 0.987049, 0.715625],\n",
    "        \"Apriori\": [0.765190 ,0.884760, 0.957840, 0.739837, 0.839532, 0.960600, 0.753055]\n",
    "    },\n",
    "    columns=[\"KNeigh\", \"Naive Bayes\", \"Random Forest\", \"Decision Tree\", \"Apriori\"],\n",
    "    index = [\"Adults\", \"BankMarketing\", \"BreastCancer\", \"ForestFires\", \"HeartFailure\", \"Occupancy\", \"Wine\"])\n",
    "df\n",
    "\n"
   ]
  },
  {
   "cell_type": "code",
   "execution_count": null,
   "metadata": {},
   "outputs": [],
   "source": []
  }
 ],
 "metadata": {
  "interpreter": {
   "hash": "d3957c06aee9fba9170d06bcf3bb8078dbc14d3348c8f470e07d0a1ed4551689"
  },
  "kernelspec": {
   "display_name": "Python 3.7.9 64-bit",
   "name": "python3"
  },
  "language_info": {
   "codemirror_mode": {
    "name": "ipython",
    "version": 3
   },
   "file_extension": ".py",
   "mimetype": "text/x-python",
   "name": "python",
   "nbconvert_exporter": "python",
   "pygments_lexer": "ipython3",
   "version": "3.7.9"
  },
  "orig_nbformat": 4
 },
 "nbformat": 4,
 "nbformat_minor": 2
}
