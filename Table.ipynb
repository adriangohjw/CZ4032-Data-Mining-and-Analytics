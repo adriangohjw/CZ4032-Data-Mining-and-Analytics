{
 "cells": [
  {
   "cell_type": "code",
   "execution_count": null,
   "metadata": {},
   "outputs": [],
   "source": [
    "import pandas as pd"
   ]
  },
  {
   "cell_type": "code",
   "execution_count": null,
   "metadata": {},
   "outputs": [],
   "source": [
    "df = pd.DataFrame(\n",
    "    {\n",
    "        \"KNeigh\": [acKNN, fscoreKNN, conmatrixKNN],\n",
    "        \"Naive Bayes\": [acNB, fscoreNB, conmatrixNB],\n",
    "        \"Random Forest\": [acRF, fscoreRF, conmatrixRF],\n",
    "        \"Decision Tree\": [acDTree, fscoreDTree, conmatrixDTree]\n",
    "        # \"Apriori\": [, , , , ,]\n",
    "    },\n",
    "    columns=[\"KNeigh\", \"Naive Bayes\", \"Random Forest\", \"Decision Tree\"])\n",
    "    # index = [\"Adults\", \"BankMarketing\" \"BreastCancer\", \"ForestFires\", \"HeartFailure\", \"Occupancy\", \"Wine\"])\n",
    "df\n",
    "\n"
   ]
  }
 ],
 "metadata": {
  "language_info": {
   "name": "python"
  },
  "orig_nbformat": 4
 },
 "nbformat": 4,
 "nbformat_minor": 2
}
